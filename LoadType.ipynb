{
 "cells": [
  {
   "cell_type": "code",
   "execution_count": 1,
   "id": "a41d0ee5",
   "metadata": {},
   "outputs": [],
   "source": [
    "#instructions:\n",
    "#use 'train' / 'test' to pass into classifier models \n",
    "#numpy and pandas are only used for visualisation of data"
   ]
  },
  {
   "cell_type": "code",
   "execution_count": 2,
   "id": "5d3c547a",
   "metadata": {},
   "outputs": [
    {
     "data": {
      "text/plain": [
       "'C:\\\\spark\\\\spark-3.1.2-bin-hadoop2.7'"
      ]
     },
     "execution_count": 2,
     "metadata": {},
     "output_type": "execute_result"
    }
   ],
   "source": [
    "import findspark\n",
    "findspark.init()\n",
    "findspark.find()"
   ]
  },
  {
   "cell_type": "code",
   "execution_count": 3,
   "id": "f907ee0e",
   "metadata": {},
   "outputs": [],
   "source": [
    "import numpy as np\n",
    "import pandas as pd\n",
    "import seaborn as sns\n",
    "import datetime\n",
    "from datetime import datetime\n",
    "\n",
    "sns.set(rc={'figure.figsize':(10,10)})\n",
    "\n",
    "import matplotlib.pyplot as plt"
   ]
  },
  {
   "cell_type": "code",
   "execution_count": 4,
   "id": "4c4a6ee5",
   "metadata": {},
   "outputs": [],
   "source": [
    "import pyspark\n",
    "from pyspark.sql import SparkSession\n",
    "\n",
    "from pyspark.sql.window import Window\n",
    "import pyspark.sql.functions\n",
    "from pyspark.sql.functions import *\n",
    "from pyspark.sql.types import *\n",
    "from pyspark.ml.feature import OneHotEncoder, OneHotEncoderModel\n",
    "from pyspark.ml.linalg import Vectors\n",
    "from pyspark.ml import Pipeline\n",
    "\n",
    "from pyspark.ml.tuning import CrossValidator, ParamGridBuilder\n",
    "from pyspark.ml.evaluation import MulticlassClassificationEvaluator\n",
    "\n",
    "from pyspark.ml.classification import RandomForestClassifier\n",
    "from pyspark.ml.tuning import TrainValidationSplit\n",
    "from pyspark.ml.feature import StringIndexer, VectorIndexer\n",
    "from pyspark.ml.feature import VectorAssembler\n",
    "from pyspark.ml.classification import DecisionTreeClassifier\n",
    "from pyspark.mllib.evaluation import BinaryClassificationMetrics\n",
    "\n",
    "\n",
    "import pyspark.ml.evaluation as evals\n",
    "from pyspark.ml.classification import LogisticRegression\n",
    "import pyspark.ml.tuning as tune\n",
    "\n"
   ]
  },
  {
   "cell_type": "code",
   "execution_count": 5,
   "id": "4eba29af",
   "metadata": {},
   "outputs": [],
   "source": [
    "spark = SparkSession.builder.appName('A2').getOrCreate()\n",
    "sparkContext=spark.sparkContext"
   ]
  },
  {
   "cell_type": "code",
   "execution_count": 6,
   "id": "0379ebdb",
   "metadata": {},
   "outputs": [],
   "source": [
    "spark.conf.set(\"spark.sql.repl.eagerEval.enabled\",True)"
   ]
  },
  {
   "cell_type": "code",
   "execution_count": 7,
   "id": "9a768ef3",
   "metadata": {},
   "outputs": [],
   "source": [
    "#col headers are : date ,Usage_kWh,Lagging_Current_Reactive.Power_kVarh,leading_Current_Reactive_Power_kVarh,CO2(tCO2),Lagging_Current_Power_Factor,Leading_Current_Power_Factor,NSM,WeekStatus,Day_of_week,Load_Type"
   ]
  },
  {
   "cell_type": "code",
   "execution_count": 8,
   "id": "f6cd8513",
   "metadata": {
    "scrolled": false
   },
   "outputs": [
    {
     "name": "stdout",
     "output_type": "stream",
     "text": [
      "+----------------+---------+------------------------------------+------------------------------------+---------+----------------------------+----------------------------+-----+----------+-----------+----------+\n",
      "|date            |Usage_kWh|Lagging_Current_Reactive.Power_kVarh|Leading_Current_Reactive_Power_kVarh|CO2(tCO2)|Lagging_Current_Power_Factor|Leading_Current_Power_Factor|NSM  |WeekStatus|Day_of_week|Load_Type |\n",
      "+----------------+---------+------------------------------------+------------------------------------+---------+----------------------------+----------------------------+-----+----------+-----------+----------+\n",
      "|01/01/2018 00:15|3.17     |2.95                                |0.0                                 |0.0      |73.21                       |100.0                       |900  |Weekday   |Monday     |Light_Load|\n",
      "|01/01/2018 00:30|4.0      |4.46                                |0.0                                 |0.0      |66.77                       |100.0                       |1800 |Weekday   |Monday     |Light_Load|\n",
      "|01/01/2018 00:45|3.24     |3.28                                |0.0                                 |0.0      |70.28                       |100.0                       |2700 |Weekday   |Monday     |Light_Load|\n",
      "|01/01/2018 01:00|3.31     |3.56                                |0.0                                 |0.0      |68.09                       |100.0                       |3600 |Weekday   |Monday     |Light_Load|\n",
      "|01/01/2018 01:15|3.82     |4.5                                 |0.0                                 |0.0      |64.72                       |100.0                       |4500 |Weekday   |Monday     |Light_Load|\n",
      "|01/01/2018 01:30|3.28     |3.56                                |0.0                                 |0.0      |67.76                       |100.0                       |5400 |Weekday   |Monday     |Light_Load|\n",
      "|01/01/2018 01:45|3.6      |4.14                                |0.0                                 |0.0      |65.62                       |100.0                       |6300 |Weekday   |Monday     |Light_Load|\n",
      "|01/01/2018 02:00|3.6      |4.28                                |0.0                                 |0.0      |64.37                       |100.0                       |7200 |Weekday   |Monday     |Light_Load|\n",
      "|01/01/2018 02:15|3.28     |3.64                                |0.0                                 |0.0      |66.94                       |100.0                       |8100 |Weekday   |Monday     |Light_Load|\n",
      "|01/01/2018 02:30|3.78     |4.72                                |0.0                                 |0.0      |62.51                       |100.0                       |9000 |Weekday   |Monday     |Light_Load|\n",
      "|01/01/2018 02:45|3.46     |4.03                                |0.0                                 |0.0      |65.14                       |100.0                       |9900 |Weekday   |Monday     |Light_Load|\n",
      "|01/01/2018 03:00|3.24     |3.64                                |0.0                                 |0.0      |66.49                       |100.0                       |10800|Weekday   |Monday     |Light_Load|\n",
      "|01/01/2018 03:15|3.96     |4.97                                |0.0                                 |0.0      |62.32                       |100.0                       |11700|Weekday   |Monday     |Light_Load|\n",
      "|01/01/2018 03:30|3.31     |3.74                                |0.0                                 |0.0      |66.27                       |100.0                       |12600|Weekday   |Monday     |Light_Load|\n",
      "|01/01/2018 03:45|3.31     |3.85                                |0.0                                 |0.0      |65.19                       |100.0                       |13500|Weekday   |Monday     |Light_Load|\n",
      "|01/01/2018 04:00|3.89     |5.0                                 |0.0                                 |0.0      |61.4                        |100.0                       |14400|Weekday   |Monday     |Light_Load|\n",
      "|01/01/2018 04:15|3.28     |3.82                                |0.0                                 |0.0      |65.14                       |100.0                       |15300|Weekday   |Monday     |Light_Load|\n",
      "|01/01/2018 04:30|3.56     |4.28                                |0.0                                 |0.0      |63.95                       |100.0                       |16200|Weekday   |Monday     |Light_Load|\n",
      "|01/01/2018 04:45|3.74     |4.54                                |0.0                                 |0.0      |63.58                       |100.0                       |17100|Weekday   |Monday     |Light_Load|\n",
      "|01/01/2018 05:00|3.31     |3.6                                 |0.0                                 |0.0      |67.68                       |100.0                       |18000|Weekday   |Monday     |Light_Load|\n",
      "+----------------+---------+------------------------------------+------------------------------------+---------+----------------------------+----------------------------+-----+----------+-----------+----------+\n",
      "only showing top 20 rows\n",
      "\n"
     ]
    }
   ],
   "source": [
    "# in Python \n",
    "df = spark.read.csv(\"Steel_industry_data.csv\", header=True, inferSchema=True)\n",
    "df.show(truncate=False) "
   ]
  },
  {
   "cell_type": "code",
   "execution_count": 9,
   "id": "820a405c",
   "metadata": {
    "scrolled": false
   },
   "outputs": [
    {
     "name": "stdout",
     "output_type": "stream",
     "text": [
      "root\n",
      " |-- date: string (nullable = true)\n",
      " |-- Usage_kWh: double (nullable = true)\n",
      " |-- Lagging_Current_Reactive.Power_kVarh: double (nullable = true)\n",
      " |-- Leading_Current_Reactive_Power_kVarh: double (nullable = true)\n",
      " |-- CO2(tCO2): double (nullable = true)\n",
      " |-- Lagging_Current_Power_Factor: double (nullable = true)\n",
      " |-- Leading_Current_Power_Factor: double (nullable = true)\n",
      " |-- NSM: integer (nullable = true)\n",
      " |-- WeekStatus: string (nullable = true)\n",
      " |-- Day_of_week: string (nullable = true)\n",
      " |-- Load_Type: string (nullable = true)\n",
      "\n"
     ]
    }
   ],
   "source": [
    "## check the schema\n",
    "df.printSchema()"
   ]
  },
  {
   "cell_type": "code",
   "execution_count": 10,
   "id": "df79f3fc",
   "metadata": {},
   "outputs": [
    {
     "data": {
      "text/plain": [
       "[('date', 'string'),\n",
       " ('Usage_kWh', 'double'),\n",
       " ('Lagging_Current_Reactive.Power_kVarh', 'double'),\n",
       " ('Leading_Current_Reactive_Power_kVarh', 'double'),\n",
       " ('CO2(tCO2)', 'double'),\n",
       " ('Lagging_Current_Power_Factor', 'double'),\n",
       " ('Leading_Current_Power_Factor', 'double'),\n",
       " ('NSM', 'int'),\n",
       " ('WeekStatus', 'string'),\n",
       " ('Day_of_week', 'string'),\n",
       " ('Load_Type', 'string')]"
      ]
     },
     "execution_count": 10,
     "metadata": {},
     "output_type": "execute_result"
    }
   ],
   "source": [
    "df.dtypes"
   ]
  },
  {
   "cell_type": "code",
   "execution_count": 11,
   "id": "1555bfa5",
   "metadata": {},
   "outputs": [
    {
     "name": "stdout",
     "output_type": "stream",
     "text": [
      "+----------------+-----+----------+----------+---+----------+----------+-----+-------+------+----------+\n",
      "|            date|Usage|Lagging_rp|Leading_rp|CO2|Lagging_pf|Leading_pf|  NSM|   week|   day|  loadtype|\n",
      "+----------------+-----+----------+----------+---+----------+----------+-----+-------+------+----------+\n",
      "|01/01/2018 00:15| 3.17|      2.95|       0.0|0.0|     73.21|     100.0|  900|Weekday|Monday|Light_Load|\n",
      "|01/01/2018 00:30|  4.0|      4.46|       0.0|0.0|     66.77|     100.0| 1800|Weekday|Monday|Light_Load|\n",
      "|01/01/2018 00:45| 3.24|      3.28|       0.0|0.0|     70.28|     100.0| 2700|Weekday|Monday|Light_Load|\n",
      "|01/01/2018 01:00| 3.31|      3.56|       0.0|0.0|     68.09|     100.0| 3600|Weekday|Monday|Light_Load|\n",
      "|01/01/2018 01:15| 3.82|       4.5|       0.0|0.0|     64.72|     100.0| 4500|Weekday|Monday|Light_Load|\n",
      "|01/01/2018 01:30| 3.28|      3.56|       0.0|0.0|     67.76|     100.0| 5400|Weekday|Monday|Light_Load|\n",
      "|01/01/2018 01:45|  3.6|      4.14|       0.0|0.0|     65.62|     100.0| 6300|Weekday|Monday|Light_Load|\n",
      "|01/01/2018 02:00|  3.6|      4.28|       0.0|0.0|     64.37|     100.0| 7200|Weekday|Monday|Light_Load|\n",
      "|01/01/2018 02:15| 3.28|      3.64|       0.0|0.0|     66.94|     100.0| 8100|Weekday|Monday|Light_Load|\n",
      "|01/01/2018 02:30| 3.78|      4.72|       0.0|0.0|     62.51|     100.0| 9000|Weekday|Monday|Light_Load|\n",
      "|01/01/2018 02:45| 3.46|      4.03|       0.0|0.0|     65.14|     100.0| 9900|Weekday|Monday|Light_Load|\n",
      "|01/01/2018 03:00| 3.24|      3.64|       0.0|0.0|     66.49|     100.0|10800|Weekday|Monday|Light_Load|\n",
      "|01/01/2018 03:15| 3.96|      4.97|       0.0|0.0|     62.32|     100.0|11700|Weekday|Monday|Light_Load|\n",
      "|01/01/2018 03:30| 3.31|      3.74|       0.0|0.0|     66.27|     100.0|12600|Weekday|Monday|Light_Load|\n",
      "|01/01/2018 03:45| 3.31|      3.85|       0.0|0.0|     65.19|     100.0|13500|Weekday|Monday|Light_Load|\n",
      "|01/01/2018 04:00| 3.89|       5.0|       0.0|0.0|      61.4|     100.0|14400|Weekday|Monday|Light_Load|\n",
      "|01/01/2018 04:15| 3.28|      3.82|       0.0|0.0|     65.14|     100.0|15300|Weekday|Monday|Light_Load|\n",
      "|01/01/2018 04:30| 3.56|      4.28|       0.0|0.0|     63.95|     100.0|16200|Weekday|Monday|Light_Load|\n",
      "|01/01/2018 04:45| 3.74|      4.54|       0.0|0.0|     63.58|     100.0|17100|Weekday|Monday|Light_Load|\n",
      "|01/01/2018 05:00| 3.31|       3.6|       0.0|0.0|     67.68|     100.0|18000|Weekday|Monday|Light_Load|\n",
      "+----------------+-----+----------+----------+---+----------+----------+-----+-------+------+----------+\n",
      "only showing top 20 rows\n",
      "\n"
     ]
    }
   ],
   "source": [
    "df2 = df.withColumnRenamed(\"Usage_kWh\",\"Usage\").withColumnRenamed(\"Lagging_Current_Reactive.Power_kVarh\",\"Lagging_rp\").withColumnRenamed(\"Leading_Current_Reactive_Power_kVarh\",\"Leading_rp\").withColumnRenamed(\"CO2(tCO2)\",\"CO2\").withColumnRenamed(\"Lagging_Current_Power_Factor\",\"Lagging_pf\").withColumnRenamed(\"Leading_Current_Power_Factor\",\"Leading_pf\").withColumnRenamed(\"WeekStatus\",\"week\").withColumnRenamed(\"Day_of_week\",\"day\").withColumnRenamed(\"Load_Type\",\"loadtype\")\n",
    "df2.show()"
   ]
  },
  {
   "cell_type": "code",
   "execution_count": 12,
   "id": "e11bb01a",
   "metadata": {},
   "outputs": [
    {
     "name": "stdout",
     "output_type": "stream",
     "text": [
      "+------------+-----+\n",
      "|    loadtype|count|\n",
      "+------------+-----+\n",
      "|Maximum_Load| 7272|\n",
      "| Medium_Load| 9696|\n",
      "|  Light_Load|18072|\n",
      "+------------+-----+\n",
      "\n"
     ]
    }
   ],
   "source": [
    "df2.groupBy('loadtype').count().orderBy('count').show()"
   ]
  },
  {
   "cell_type": "code",
   "execution_count": 13,
   "id": "1ab4345c",
   "metadata": {},
   "outputs": [
    {
     "name": "stdout",
     "output_type": "stream",
     "text": [
      "+------------+-----+\n",
      "|    loadtype|count|\n",
      "+------------+-----+\n",
      "|  Light_Load|18072|\n",
      "| Medium_Load| 9696|\n",
      "|Maximum_Load| 7272|\n",
      "+------------+-----+\n",
      "\n"
     ]
    }
   ],
   "source": [
    "df2.groupBy('loadtype').count().orderBy('count', ascending=False).show()"
   ]
  },
  {
   "cell_type": "markdown",
   "id": "9788148b",
   "metadata": {},
   "source": [
    "We now know that this is a ternary classification problem. <br> and light load has the highest occurences among the three classes"
   ]
  },
  {
   "cell_type": "code",
   "execution_count": 14,
   "id": "7588886b",
   "metadata": {},
   "outputs": [
    {
     "name": "stdout",
     "output_type": "stream",
     "text": [
      "+----+-----+----------+----------+---+----------+----------+---+----+---+--------+\n",
      "|date|Usage|Lagging_rp|Leading_rp|CO2|Lagging_pf|Leading_pf|NSM|week|day|loadtype|\n",
      "+----+-----+----------+----------+---+----------+----------+---+----+---+--------+\n",
      "|   0|    0|         0|         0|  0|         0|         0|  0|   0|  0|       0|\n",
      "+----+-----+----------+----------+---+----------+----------+---+----+---+--------+\n",
      "\n"
     ]
    }
   ],
   "source": [
    "#checking for null values using SQL query:\n",
    "df2.select([count(when(col(c).contains('None') | col(c).contains('NULL') | \\\n",
    "                            (col(c) == '' ) | \\\n",
    "                            col(c).isNull() | \\\n",
    "                            isnan(c), c )).alias(c) for c in df2.columns]).show()"
   ]
  },
  {
   "cell_type": "markdown",
   "id": "8148fb8e",
   "metadata": {},
   "source": [
    "Great! There are no null values. :)"
   ]
  },
  {
   "cell_type": "code",
   "execution_count": 15,
   "id": "792e6f40",
   "metadata": {},
   "outputs": [
    {
     "name": "stdout",
     "output_type": "stream",
     "text": [
      "+-----+----------+----------+---+----------+----------+-----+-------+------+----------+\n",
      "|Usage|Lagging_rp|Leading_rp|CO2|Lagging_pf|Leading_pf|  NSM|   week|   day|  loadtype|\n",
      "+-----+----------+----------+---+----------+----------+-----+-------+------+----------+\n",
      "| 3.17|      2.95|       0.0|0.0|     73.21|     100.0|  900|Weekday|Monday|Light_Load|\n",
      "|  4.0|      4.46|       0.0|0.0|     66.77|     100.0| 1800|Weekday|Monday|Light_Load|\n",
      "| 3.24|      3.28|       0.0|0.0|     70.28|     100.0| 2700|Weekday|Monday|Light_Load|\n",
      "| 3.31|      3.56|       0.0|0.0|     68.09|     100.0| 3600|Weekday|Monday|Light_Load|\n",
      "| 3.82|       4.5|       0.0|0.0|     64.72|     100.0| 4500|Weekday|Monday|Light_Load|\n",
      "| 3.28|      3.56|       0.0|0.0|     67.76|     100.0| 5400|Weekday|Monday|Light_Load|\n",
      "|  3.6|      4.14|       0.0|0.0|     65.62|     100.0| 6300|Weekday|Monday|Light_Load|\n",
      "|  3.6|      4.28|       0.0|0.0|     64.37|     100.0| 7200|Weekday|Monday|Light_Load|\n",
      "| 3.28|      3.64|       0.0|0.0|     66.94|     100.0| 8100|Weekday|Monday|Light_Load|\n",
      "| 3.78|      4.72|       0.0|0.0|     62.51|     100.0| 9000|Weekday|Monday|Light_Load|\n",
      "| 3.46|      4.03|       0.0|0.0|     65.14|     100.0| 9900|Weekday|Monday|Light_Load|\n",
      "| 3.24|      3.64|       0.0|0.0|     66.49|     100.0|10800|Weekday|Monday|Light_Load|\n",
      "| 3.96|      4.97|       0.0|0.0|     62.32|     100.0|11700|Weekday|Monday|Light_Load|\n",
      "| 3.31|      3.74|       0.0|0.0|     66.27|     100.0|12600|Weekday|Monday|Light_Load|\n",
      "| 3.31|      3.85|       0.0|0.0|     65.19|     100.0|13500|Weekday|Monday|Light_Load|\n",
      "| 3.89|       5.0|       0.0|0.0|      61.4|     100.0|14400|Weekday|Monday|Light_Load|\n",
      "| 3.28|      3.82|       0.0|0.0|     65.14|     100.0|15300|Weekday|Monday|Light_Load|\n",
      "| 3.56|      4.28|       0.0|0.0|     63.95|     100.0|16200|Weekday|Monday|Light_Load|\n",
      "| 3.74|      4.54|       0.0|0.0|     63.58|     100.0|17100|Weekday|Monday|Light_Load|\n",
      "| 3.31|       3.6|       0.0|0.0|     67.68|     100.0|18000|Weekday|Monday|Light_Load|\n",
      "+-----+----------+----------+---+----------+----------+-----+-------+------+----------+\n",
      "only showing top 20 rows\n",
      "\n"
     ]
    }
   ],
   "source": [
    "df3 = df2.drop('date')\n",
    "df3.show()"
   ]
  },
  {
   "cell_type": "code",
   "execution_count": 16,
   "id": "7397a7f7",
   "metadata": {},
   "outputs": [
    {
     "name": "stdout",
     "output_type": "stream",
     "text": [
      "+---------+\n",
      "|      day|\n",
      "+---------+\n",
      "|Wednesday|\n",
      "|  Tuesday|\n",
      "|   Friday|\n",
      "| Thursday|\n",
      "| Saturday|\n",
      "|   Monday|\n",
      "|   Sunday|\n",
      "+---------+\n",
      "\n"
     ]
    }
   ],
   "source": [
    "df2.select(\"day\").distinct().show()"
   ]
  },
  {
   "cell_type": "code",
   "execution_count": 17,
   "id": "b99a490d",
   "metadata": {},
   "outputs": [
    {
     "name": "stdout",
     "output_type": "stream",
     "text": [
      "+-------+\n",
      "|   Week|\n",
      "+-------+\n",
      "|Weekday|\n",
      "|Weekend|\n",
      "+-------+\n",
      "\n"
     ]
    }
   ],
   "source": [
    "df2.select(\"Week\").distinct().show()"
   ]
  },
  {
   "cell_type": "markdown",
   "id": "caf88b68",
   "metadata": {},
   "source": [
    "### Using user-defined function to transform the date column \n",
    "Creates a new column with the name of the month"
   ]
  },
  {
   "cell_type": "code",
   "execution_count": 18,
   "id": "fb46572e",
   "metadata": {},
   "outputs": [],
   "source": [
    "# change date column from string to datetime\n",
    "df_formated_date = df2.withColumn(\"new_date\", to_date(col(\"date\"), \"dd/MM/yyyy HH:mm\"))"
   ]
  },
  {
   "cell_type": "code",
   "execution_count": 19,
   "id": "2a7a7f78",
   "metadata": {},
   "outputs": [
    {
     "name": "stdout",
     "output_type": "stream",
     "text": [
      "root\n",
      " |-- date: string (nullable = true)\n",
      " |-- Usage: double (nullable = true)\n",
      " |-- Lagging_rp: double (nullable = true)\n",
      " |-- Leading_rp: double (nullable = true)\n",
      " |-- CO2: double (nullable = true)\n",
      " |-- Lagging_pf: double (nullable = true)\n",
      " |-- Leading_pf: double (nullable = true)\n",
      " |-- NSM: integer (nullable = true)\n",
      " |-- week: string (nullable = true)\n",
      " |-- day: string (nullable = true)\n",
      " |-- loadtype: string (nullable = true)\n",
      " |-- new_date: date (nullable = true)\n",
      "\n"
     ]
    }
   ],
   "source": [
    "df_formated_date.printSchema()"
   ]
  },
  {
   "cell_type": "code",
   "execution_count": 20,
   "id": "77c8842c",
   "metadata": {},
   "outputs": [
    {
     "name": "stdout",
     "output_type": "stream",
     "text": [
      "+----------------+-----+----------+----------+---+----------+----------+-----+-------+------+----------+----------+\n",
      "|            date|Usage|Lagging_rp|Leading_rp|CO2|Lagging_pf|Leading_pf|  NSM|   week|   day|  loadtype|  new_date|\n",
      "+----------------+-----+----------+----------+---+----------+----------+-----+-------+------+----------+----------+\n",
      "|01/01/2018 00:15| 3.17|      2.95|       0.0|0.0|     73.21|     100.0|  900|Weekday|Monday|Light_Load|2018-01-01|\n",
      "|01/01/2018 00:30|  4.0|      4.46|       0.0|0.0|     66.77|     100.0| 1800|Weekday|Monday|Light_Load|2018-01-01|\n",
      "|01/01/2018 00:45| 3.24|      3.28|       0.0|0.0|     70.28|     100.0| 2700|Weekday|Monday|Light_Load|2018-01-01|\n",
      "|01/01/2018 01:00| 3.31|      3.56|       0.0|0.0|     68.09|     100.0| 3600|Weekday|Monday|Light_Load|2018-01-01|\n",
      "|01/01/2018 01:15| 3.82|       4.5|       0.0|0.0|     64.72|     100.0| 4500|Weekday|Monday|Light_Load|2018-01-01|\n",
      "|01/01/2018 01:30| 3.28|      3.56|       0.0|0.0|     67.76|     100.0| 5400|Weekday|Monday|Light_Load|2018-01-01|\n",
      "|01/01/2018 01:45|  3.6|      4.14|       0.0|0.0|     65.62|     100.0| 6300|Weekday|Monday|Light_Load|2018-01-01|\n",
      "|01/01/2018 02:00|  3.6|      4.28|       0.0|0.0|     64.37|     100.0| 7200|Weekday|Monday|Light_Load|2018-01-01|\n",
      "|01/01/2018 02:15| 3.28|      3.64|       0.0|0.0|     66.94|     100.0| 8100|Weekday|Monday|Light_Load|2018-01-01|\n",
      "|01/01/2018 02:30| 3.78|      4.72|       0.0|0.0|     62.51|     100.0| 9000|Weekday|Monday|Light_Load|2018-01-01|\n",
      "|01/01/2018 02:45| 3.46|      4.03|       0.0|0.0|     65.14|     100.0| 9900|Weekday|Monday|Light_Load|2018-01-01|\n",
      "|01/01/2018 03:00| 3.24|      3.64|       0.0|0.0|     66.49|     100.0|10800|Weekday|Monday|Light_Load|2018-01-01|\n",
      "|01/01/2018 03:15| 3.96|      4.97|       0.0|0.0|     62.32|     100.0|11700|Weekday|Monday|Light_Load|2018-01-01|\n",
      "|01/01/2018 03:30| 3.31|      3.74|       0.0|0.0|     66.27|     100.0|12600|Weekday|Monday|Light_Load|2018-01-01|\n",
      "|01/01/2018 03:45| 3.31|      3.85|       0.0|0.0|     65.19|     100.0|13500|Weekday|Monday|Light_Load|2018-01-01|\n",
      "|01/01/2018 04:00| 3.89|       5.0|       0.0|0.0|      61.4|     100.0|14400|Weekday|Monday|Light_Load|2018-01-01|\n",
      "|01/01/2018 04:15| 3.28|      3.82|       0.0|0.0|     65.14|     100.0|15300|Weekday|Monday|Light_Load|2018-01-01|\n",
      "|01/01/2018 04:30| 3.56|      4.28|       0.0|0.0|     63.95|     100.0|16200|Weekday|Monday|Light_Load|2018-01-01|\n",
      "|01/01/2018 04:45| 3.74|      4.54|       0.0|0.0|     63.58|     100.0|17100|Weekday|Monday|Light_Load|2018-01-01|\n",
      "|01/01/2018 05:00| 3.31|       3.6|       0.0|0.0|     67.68|     100.0|18000|Weekday|Monday|Light_Load|2018-01-01|\n",
      "+----------------+-----+----------+----------+---+----------+----------+-----+-------+------+----------+----------+\n",
      "only showing top 20 rows\n",
      "\n"
     ]
    }
   ],
   "source": [
    "df_formated_date.show()"
   ]
  },
  {
   "cell_type": "code",
   "execution_count": 21,
   "id": "daa5abde",
   "metadata": {},
   "outputs": [],
   "source": [
    "from pyspark.sql.functions import udf\n",
    "\n",
    "#@pandas_udf(\"string\")\n",
    "def month_to_string(month):\n",
    "    if(month==1):\n",
    "        return 'January'\n",
    "    elif(month==2):\n",
    "        return 'February'\n",
    "    elif(month==3):\n",
    "        return 'March'\n",
    "    elif(month==4):\n",
    "        return 'April'\n",
    "    elif(month==5):\n",
    "        return 'May'\n",
    "    elif(month==6):\n",
    "        return 'June'\n",
    "    elif(month==7):\n",
    "        return 'July'\n",
    "    elif(month==8):\n",
    "        return 'August'\n",
    "    elif(month==9):\n",
    "        return 'September'\n",
    "    elif(month==10):\n",
    "        return 'October'\n",
    "    elif(month==11):\n",
    "        return 'November'\n",
    "    elif(month==12):\n",
    "        return 'December'"
   ]
  },
  {
   "cell_type": "code",
   "execution_count": 22,
   "id": "8683dbc9",
   "metadata": {},
   "outputs": [],
   "source": [
    "month_udf = udf(month_to_string)"
   ]
  },
  {
   "cell_type": "code",
   "execution_count": 23,
   "id": "25d2fc94",
   "metadata": {},
   "outputs": [],
   "source": [
    "df_4 = df_formated_date.withColumn('month', month(df_formated_date.new_date))"
   ]
  },
  {
   "cell_type": "code",
   "execution_count": 24,
   "id": "e28c02ed",
   "metadata": {},
   "outputs": [],
   "source": [
    "df_final = df_4.drop('date','new_date')"
   ]
  },
  {
   "cell_type": "code",
   "execution_count": 25,
   "id": "48618524",
   "metadata": {},
   "outputs": [],
   "source": [
    "df_1 = df_final.withColumn(\"month_string\", month_udf(df_final['month']))"
   ]
  },
  {
   "cell_type": "code",
   "execution_count": 26,
   "id": "f3dfc213",
   "metadata": {},
   "outputs": [
    {
     "name": "stdout",
     "output_type": "stream",
     "text": [
      "+-----+----------+----------+---+----------+----------+-----+-------+------+----------+-----+------------+\n",
      "|Usage|Lagging_rp|Leading_rp|CO2|Lagging_pf|Leading_pf|  NSM|   week|   day|  loadtype|month|month_string|\n",
      "+-----+----------+----------+---+----------+----------+-----+-------+------+----------+-----+------------+\n",
      "| 3.17|      2.95|       0.0|0.0|     73.21|     100.0|  900|Weekday|Monday|Light_Load|    1|     January|\n",
      "|  4.0|      4.46|       0.0|0.0|     66.77|     100.0| 1800|Weekday|Monday|Light_Load|    1|     January|\n",
      "| 3.24|      3.28|       0.0|0.0|     70.28|     100.0| 2700|Weekday|Monday|Light_Load|    1|     January|\n",
      "| 3.31|      3.56|       0.0|0.0|     68.09|     100.0| 3600|Weekday|Monday|Light_Load|    1|     January|\n",
      "| 3.82|       4.5|       0.0|0.0|     64.72|     100.0| 4500|Weekday|Monday|Light_Load|    1|     January|\n",
      "| 3.28|      3.56|       0.0|0.0|     67.76|     100.0| 5400|Weekday|Monday|Light_Load|    1|     January|\n",
      "|  3.6|      4.14|       0.0|0.0|     65.62|     100.0| 6300|Weekday|Monday|Light_Load|    1|     January|\n",
      "|  3.6|      4.28|       0.0|0.0|     64.37|     100.0| 7200|Weekday|Monday|Light_Load|    1|     January|\n",
      "| 3.28|      3.64|       0.0|0.0|     66.94|     100.0| 8100|Weekday|Monday|Light_Load|    1|     January|\n",
      "| 3.78|      4.72|       0.0|0.0|     62.51|     100.0| 9000|Weekday|Monday|Light_Load|    1|     January|\n",
      "| 3.46|      4.03|       0.0|0.0|     65.14|     100.0| 9900|Weekday|Monday|Light_Load|    1|     January|\n",
      "| 3.24|      3.64|       0.0|0.0|     66.49|     100.0|10800|Weekday|Monday|Light_Load|    1|     January|\n",
      "| 3.96|      4.97|       0.0|0.0|     62.32|     100.0|11700|Weekday|Monday|Light_Load|    1|     January|\n",
      "| 3.31|      3.74|       0.0|0.0|     66.27|     100.0|12600|Weekday|Monday|Light_Load|    1|     January|\n",
      "| 3.31|      3.85|       0.0|0.0|     65.19|     100.0|13500|Weekday|Monday|Light_Load|    1|     January|\n",
      "| 3.89|       5.0|       0.0|0.0|      61.4|     100.0|14400|Weekday|Monday|Light_Load|    1|     January|\n",
      "| 3.28|      3.82|       0.0|0.0|     65.14|     100.0|15300|Weekday|Monday|Light_Load|    1|     January|\n",
      "| 3.56|      4.28|       0.0|0.0|     63.95|     100.0|16200|Weekday|Monday|Light_Load|    1|     January|\n",
      "| 3.74|      4.54|       0.0|0.0|     63.58|     100.0|17100|Weekday|Monday|Light_Load|    1|     January|\n",
      "| 3.31|       3.6|       0.0|0.0|     67.68|     100.0|18000|Weekday|Monday|Light_Load|    1|     January|\n",
      "+-----+----------+----------+---+----------+----------+-----+-------+------+----------+-----+------------+\n",
      "only showing top 20 rows\n",
      "\n"
     ]
    }
   ],
   "source": [
    "df_1.show()"
   ]
  },
  {
   "cell_type": "markdown",
   "id": "07626a62",
   "metadata": {},
   "source": [
    "### Final processed dataframe to use in Rformula"
   ]
  },
  {
   "cell_type": "code",
   "execution_count": 27,
   "id": "35523f9c",
   "metadata": {},
   "outputs": [],
   "source": [
    "df_processed = df_1.drop('month')"
   ]
  },
  {
   "cell_type": "code",
   "execution_count": 28,
   "id": "0f45d9a5",
   "metadata": {},
   "outputs": [
    {
     "name": "stdout",
     "output_type": "stream",
     "text": [
      "+-----+----------+----------+---+----------+----------+-----+-------+------+----------+------------+\n",
      "|Usage|Lagging_rp|Leading_rp|CO2|Lagging_pf|Leading_pf|  NSM|   week|   day|  loadtype|month_string|\n",
      "+-----+----------+----------+---+----------+----------+-----+-------+------+----------+------------+\n",
      "| 3.17|      2.95|       0.0|0.0|     73.21|     100.0|  900|Weekday|Monday|Light_Load|     January|\n",
      "|  4.0|      4.46|       0.0|0.0|     66.77|     100.0| 1800|Weekday|Monday|Light_Load|     January|\n",
      "| 3.24|      3.28|       0.0|0.0|     70.28|     100.0| 2700|Weekday|Monday|Light_Load|     January|\n",
      "| 3.31|      3.56|       0.0|0.0|     68.09|     100.0| 3600|Weekday|Monday|Light_Load|     January|\n",
      "| 3.82|       4.5|       0.0|0.0|     64.72|     100.0| 4500|Weekday|Monday|Light_Load|     January|\n",
      "| 3.28|      3.56|       0.0|0.0|     67.76|     100.0| 5400|Weekday|Monday|Light_Load|     January|\n",
      "|  3.6|      4.14|       0.0|0.0|     65.62|     100.0| 6300|Weekday|Monday|Light_Load|     January|\n",
      "|  3.6|      4.28|       0.0|0.0|     64.37|     100.0| 7200|Weekday|Monday|Light_Load|     January|\n",
      "| 3.28|      3.64|       0.0|0.0|     66.94|     100.0| 8100|Weekday|Monday|Light_Load|     January|\n",
      "| 3.78|      4.72|       0.0|0.0|     62.51|     100.0| 9000|Weekday|Monday|Light_Load|     January|\n",
      "| 3.46|      4.03|       0.0|0.0|     65.14|     100.0| 9900|Weekday|Monday|Light_Load|     January|\n",
      "| 3.24|      3.64|       0.0|0.0|     66.49|     100.0|10800|Weekday|Monday|Light_Load|     January|\n",
      "| 3.96|      4.97|       0.0|0.0|     62.32|     100.0|11700|Weekday|Monday|Light_Load|     January|\n",
      "| 3.31|      3.74|       0.0|0.0|     66.27|     100.0|12600|Weekday|Monday|Light_Load|     January|\n",
      "| 3.31|      3.85|       0.0|0.0|     65.19|     100.0|13500|Weekday|Monday|Light_Load|     January|\n",
      "| 3.89|       5.0|       0.0|0.0|      61.4|     100.0|14400|Weekday|Monday|Light_Load|     January|\n",
      "| 3.28|      3.82|       0.0|0.0|     65.14|     100.0|15300|Weekday|Monday|Light_Load|     January|\n",
      "| 3.56|      4.28|       0.0|0.0|     63.95|     100.0|16200|Weekday|Monday|Light_Load|     January|\n",
      "| 3.74|      4.54|       0.0|0.0|     63.58|     100.0|17100|Weekday|Monday|Light_Load|     January|\n",
      "| 3.31|       3.6|       0.0|0.0|     67.68|     100.0|18000|Weekday|Monday|Light_Load|     January|\n",
      "+-----+----------+----------+---+----------+----------+-----+-------+------+----------+------------+\n",
      "only showing top 20 rows\n",
      "\n"
     ]
    }
   ],
   "source": [
    "df_processed.show()"
   ]
  },
  {
   "cell_type": "markdown",
   "id": "b73341fd",
   "metadata": {},
   "source": [
    "## Now for data visualization.."
   ]
  },
  {
   "cell_type": "code",
   "execution_count": 29,
   "id": "fecd4545",
   "metadata": {},
   "outputs": [],
   "source": [
    "# convert to pandas dataframe for visualisation\n",
    "pandasDF = df2.toPandas()"
   ]
  },
  {
   "cell_type": "code",
   "execution_count": 30,
   "id": "18982cd5",
   "metadata": {},
   "outputs": [
    {
     "name": "stdout",
     "output_type": "stream",
     "text": [
      "<class 'pandas.core.frame.DataFrame'>\n",
      "RangeIndex: 35040 entries, 0 to 35039\n",
      "Data columns (total 11 columns):\n",
      " #   Column      Non-Null Count  Dtype  \n",
      "---  ------      --------------  -----  \n",
      " 0   date        35040 non-null  object \n",
      " 1   Usage       35040 non-null  float64\n",
      " 2   Lagging_rp  35040 non-null  float64\n",
      " 3   Leading_rp  35040 non-null  float64\n",
      " 4   CO2         35040 non-null  float64\n",
      " 5   Lagging_pf  35040 non-null  float64\n",
      " 6   Leading_pf  35040 non-null  float64\n",
      " 7   NSM         35040 non-null  int32  \n",
      " 8   week        35040 non-null  object \n",
      " 9   day         35040 non-null  object \n",
      " 10  loadtype    35040 non-null  object \n",
      "dtypes: float64(6), int32(1), object(4)\n",
      "memory usage: 2.8+ MB\n"
     ]
    }
   ],
   "source": [
    "#pandasDF['date']= pd.to_datetime(pandasDF['date'])\n",
    "pandasDF.info()"
   ]
  },
  {
   "cell_type": "markdown",
   "id": "2ae16c23",
   "metadata": {},
   "source": [
    "Plotting a graph to see the distribution of load types per month in the year 2018"
   ]
  },
  {
   "cell_type": "code",
   "execution_count": 31,
   "id": "fd87403f",
   "metadata": {},
   "outputs": [],
   "source": [
    "#split by month\n",
    "pandasDF.date = pd.to_datetime(pandasDF.date)\n",
    "pandasDF.loc[(pandasDF.loadtype == 'Maximum_Load'), 'loadtype'] = 'Maximum_Load'\n",
    "pandasDF.loc[(pandasDF.loadtype == 'Light_Load'), 'loadtype'] = 'Light_Load'\n",
    "pandasDF.loc[(pandasDF.loadtype == 'Medium_Load'), 'loadtype'] = 'Medium_Load'\n",
    "\n",
    "\n",
    "new_df = pandasDF.groupby([pandasDF.date.dt.year,pandasDF.date.dt.month]).loadtype.value_counts().unstack().fillna(0)\n",
    "new_df.columns = ['Maximum_Load','Light_Load','Medium_Load']\n",
    "new_df.index.names = ['Year', 'Month']"
   ]
  },
  {
   "cell_type": "code",
   "execution_count": 32,
   "id": "3ed4a81d",
   "metadata": {},
   "outputs": [
    {
     "data": {
      "text/html": [
       "<div>\n",
       "<style scoped>\n",
       "    .dataframe tbody tr th:only-of-type {\n",
       "        vertical-align: middle;\n",
       "    }\n",
       "\n",
       "    .dataframe tbody tr th {\n",
       "        vertical-align: top;\n",
       "    }\n",
       "\n",
       "    .dataframe thead th {\n",
       "        text-align: right;\n",
       "    }\n",
       "</style>\n",
       "<table border=\"1\" class=\"dataframe\">\n",
       "  <thead>\n",
       "    <tr style=\"text-align: right;\">\n",
       "      <th></th>\n",
       "      <th></th>\n",
       "      <th>Maximum_Load</th>\n",
       "      <th>Light_Load</th>\n",
       "      <th>Medium_Load</th>\n",
       "    </tr>\n",
       "    <tr>\n",
       "      <th>Year</th>\n",
       "      <th>Month</th>\n",
       "      <th></th>\n",
       "      <th></th>\n",
       "      <th></th>\n",
       "    </tr>\n",
       "  </thead>\n",
       "  <tbody>\n",
       "    <tr>\n",
       "      <th rowspan=\"12\" valign=\"top\">2018</th>\n",
       "      <th>1</th>\n",
       "      <td>1576</td>\n",
       "      <td>600</td>\n",
       "      <td>800</td>\n",
       "    </tr>\n",
       "    <tr>\n",
       "      <th>2</th>\n",
       "      <td>1624</td>\n",
       "      <td>456</td>\n",
       "      <td>608</td>\n",
       "    </tr>\n",
       "    <tr>\n",
       "      <th>3</th>\n",
       "      <td>1464</td>\n",
       "      <td>648</td>\n",
       "      <td>864</td>\n",
       "    </tr>\n",
       "    <tr>\n",
       "      <th>4</th>\n",
       "      <td>1480</td>\n",
       "      <td>600</td>\n",
       "      <td>800</td>\n",
       "    </tr>\n",
       "    <tr>\n",
       "      <th>5</th>\n",
       "      <td>1464</td>\n",
       "      <td>648</td>\n",
       "      <td>864</td>\n",
       "    </tr>\n",
       "    <tr>\n",
       "      <th>6</th>\n",
       "      <td>1368</td>\n",
       "      <td>648</td>\n",
       "      <td>864</td>\n",
       "    </tr>\n",
       "    <tr>\n",
       "      <th>7</th>\n",
       "      <td>1408</td>\n",
       "      <td>672</td>\n",
       "      <td>896</td>\n",
       "    </tr>\n",
       "    <tr>\n",
       "      <th>8</th>\n",
       "      <td>1352</td>\n",
       "      <td>696</td>\n",
       "      <td>928</td>\n",
       "    </tr>\n",
       "    <tr>\n",
       "      <th>9</th>\n",
       "      <td>1704</td>\n",
       "      <td>504</td>\n",
       "      <td>672</td>\n",
       "    </tr>\n",
       "    <tr>\n",
       "      <th>10</th>\n",
       "      <td>1520</td>\n",
       "      <td>624</td>\n",
       "      <td>832</td>\n",
       "    </tr>\n",
       "    <tr>\n",
       "      <th>11</th>\n",
       "      <td>1424</td>\n",
       "      <td>624</td>\n",
       "      <td>832</td>\n",
       "    </tr>\n",
       "    <tr>\n",
       "      <th>12</th>\n",
       "      <td>1688</td>\n",
       "      <td>552</td>\n",
       "      <td>736</td>\n",
       "    </tr>\n",
       "  </tbody>\n",
       "</table>\n",
       "</div>"
      ],
      "text/plain": [
       "            Maximum_Load  Light_Load  Medium_Load\n",
       "Year Month                                       \n",
       "2018 1              1576         600          800\n",
       "     2              1624         456          608\n",
       "     3              1464         648          864\n",
       "     4              1480         600          800\n",
       "     5              1464         648          864\n",
       "     6              1368         648          864\n",
       "     7              1408         672          896\n",
       "     8              1352         696          928\n",
       "     9              1704         504          672\n",
       "     10             1520         624          832\n",
       "     11             1424         624          832\n",
       "     12             1688         552          736"
      ]
     },
     "execution_count": 32,
     "metadata": {},
     "output_type": "execute_result"
    }
   ],
   "source": [
    "new_df"
   ]
  },
  {
   "cell_type": "code",
   "execution_count": 33,
   "id": "5858c6a4",
   "metadata": {},
   "outputs": [
    {
     "data": {
      "text/plain": [
       "Text(0.5, 1.0, 'Frequency of load types per month in 2018')"
      ]
     },
     "execution_count": 33,
     "metadata": {},
     "output_type": "execute_result"
    },
    {
     "data": {
      "image/png": "[encoded data removed]",
      "text/plain": [
       "<Figure size 720x720 with 1 Axes>"
      ]
     },
     "metadata": {},
     "output_type": "display_data"
    }
   ],
   "source": [
    "new_df.plot(kind='bar', stacked=True, color=sns.color_palette(\"Set2\"))\n",
    "plt.xlabel('Months')\n",
    "plt.ylabel('Load Types')\n",
    "plt.title('Frequency of load types per month in 2018')"
   ]
  },
  {
   "cell_type": "code",
   "execution_count": 34,
   "id": "d66e6d9f",
   "metadata": {},
   "outputs": [],
   "source": [
    "#group by day \n",
    "pandasDF.loc[(pandasDF.loadtype == 'Maximum_Load'), 'loadtype'] = 'Maximum_Load'\n",
    "pandasDF.loc[(pandasDF.loadtype == 'Light_Load'), 'loadtype'] = 'Light_Load'\n",
    "pandasDF.loc[(pandasDF.loadtype == 'Medium_Load'), 'loadtype'] = 'Medium_Load'\n",
    "\n",
    "new_df = pandasDF.groupby([pandasDF.day]).loadtype.value_counts().unstack().fillna(0)\n",
    "new_df.columns = ['Light_Load','Maximum_Load','Medium_Load']\n",
    "new_df.index.names = ['Day']"
   ]
  },
  {
   "cell_type": "code",
   "execution_count": 35,
   "id": "3c30115f",
   "metadata": {},
   "outputs": [
    {
     "data": {
      "text/plain": [
       "Text(0.5, 1.0, 'Frequency of load types for each day in 2018')"
      ]
     },
     "execution_count": 35,
     "metadata": {},
     "output_type": "execute_result"
    },
    {
     "data": {
      "image/png": "[encoded data removed]",
      "text/plain": [
       "<Figure size 720x720 with 1 Axes>"
      ]
     },
     "metadata": {},
     "output_type": "display_data"
    }
   ],
   "source": [
    "new_df.plot(kind='bar', stacked=True, color=sns.color_palette(\"Set2\"))\n",
    "plt.xlabel('Days')\n",
    "plt.ylabel('Load Types')\n",
    "plt.title('Frequency of load types for each day in 2018')"
   ]
  },
  {
   "cell_type": "markdown",
   "id": "c69dd2dc",
   "metadata": {},
   "source": [
    "### Preparing data for training"
   ]
  },
  {
   "cell_type": "code",
   "execution_count": 36,
   "id": "b9c64c1b",
   "metadata": {},
   "outputs": [],
   "source": [
    "#transform data into labels and features using RFormula\n",
    "# The ordering option stringOrderType is NOT used for the label column.\n",
    "# When the label column is indexed, \n",
    "# it uses the default descending frequency ordering in StringIndexer.\n",
    "# Rformula just converts the strings, standarize them and parse them into a vector."
   ]
  },
  {
   "cell_type": "code",
   "execution_count": 37,
   "id": "350e6c6a",
   "metadata": {},
   "outputs": [],
   "source": [
    "from pyspark.ml.feature import RFormula \n",
    "supervised = RFormula(formula=\"loadtype ~ .\") \n",
    "final_DF = supervised.fit(df_processed).transform(df_processed)"
   ]
  },
  {
   "cell_type": "code",
   "execution_count": 38,
   "id": "0052931d",
   "metadata": {},
   "outputs": [
    {
     "name": "stdout",
     "output_type": "stream",
     "text": [
      "+-------------------------------------------------------------------+\n",
      "|features                                                           |\n",
      "+-------------------------------------------------------------------+\n",
      "|(25,[0,1,4,5,6,7,8,16],[3.17,2.95,73.21,100.0,900.0,1.0,1.0,1.0])  |\n",
      "|(25,[0,1,4,5,6,7,8,16],[4.0,4.46,66.77,100.0,1800.0,1.0,1.0,1.0])  |\n",
      "|(25,[0,1,4,5,6,7,8,16],[3.24,3.28,70.28,100.0,2700.0,1.0,1.0,1.0]) |\n",
      "|(25,[0,1,4,5,6,7,8,16],[3.31,3.56,68.09,100.0,3600.0,1.0,1.0,1.0]) |\n",
      "|(25,[0,1,4,5,6,7,8,16],[3.82,4.5,64.72,100.0,4500.0,1.0,1.0,1.0])  |\n",
      "|(25,[0,1,4,5,6,7,8,16],[3.28,3.56,67.76,100.0,5400.0,1.0,1.0,1.0]) |\n",
      "|(25,[0,1,4,5,6,7,8,16],[3.6,4.14,65.62,100.0,6300.0,1.0,1.0,1.0])  |\n",
      "|(25,[0,1,4,5,6,7,8,16],[3.6,4.28,64.37,100.0,7200.0,1.0,1.0,1.0])  |\n",
      "|(25,[0,1,4,5,6,7,8,16],[3.28,3.64,66.94,100.0,8100.0,1.0,1.0,1.0]) |\n",
      "|(25,[0,1,4,5,6,7,8,16],[3.78,4.72,62.51,100.0,9000.0,1.0,1.0,1.0]) |\n",
      "|(25,[0,1,4,5,6,7,8,16],[3.46,4.03,65.14,100.0,9900.0,1.0,1.0,1.0]) |\n",
      "|(25,[0,1,4,5,6,7,8,16],[3.24,3.64,66.49,100.0,10800.0,1.0,1.0,1.0])|\n",
      "|(25,[0,1,4,5,6,7,8,16],[3.96,4.97,62.32,100.0,11700.0,1.0,1.0,1.0])|\n",
      "|(25,[0,1,4,5,6,7,8,16],[3.31,3.74,66.27,100.0,12600.0,1.0,1.0,1.0])|\n",
      "|(25,[0,1,4,5,6,7,8,16],[3.31,3.85,65.19,100.0,13500.0,1.0,1.0,1.0])|\n",
      "|(25,[0,1,4,5,6,7,8,16],[3.89,5.0,61.4,100.0,14400.0,1.0,1.0,1.0])  |\n",
      "|(25,[0,1,4,5,6,7,8,16],[3.28,3.82,65.14,100.0,15300.0,1.0,1.0,1.0])|\n",
      "|(25,[0,1,4,5,6,7,8,16],[3.56,4.28,63.95,100.0,16200.0,1.0,1.0,1.0])|\n",
      "|(25,[0,1,4,5,6,7,8,16],[3.74,4.54,63.58,100.0,17100.0,1.0,1.0,1.0])|\n",
      "|(25,[0,1,4,5,6,7,8,16],[3.31,3.6,67.68,100.0,18000.0,1.0,1.0,1.0]) |\n",
      "+-------------------------------------------------------------------+\n",
      "only showing top 20 rows\n",
      "\n"
     ]
    }
   ],
   "source": [
    "final_DF.select('features').show(truncate=False)"
   ]
  },
  {
   "cell_type": "code",
   "execution_count": 39,
   "id": "19e9239a",
   "metadata": {},
   "outputs": [
    {
     "name": "stdout",
     "output_type": "stream",
     "text": [
      "+-----+\n",
      "|label|\n",
      "+-----+\n",
      "|0.0  |\n",
      "|1.0  |\n",
      "|2.0  |\n",
      "+-----+\n",
      "\n"
     ]
    }
   ],
   "source": [
    "final_DF.select('label').distinct().show(truncate=False)"
   ]
  },
  {
   "cell_type": "code",
   "execution_count": 40,
   "id": "d5a3637a",
   "metadata": {},
   "outputs": [
    {
     "name": "stdout",
     "output_type": "stream",
     "text": [
      "+-----+----------+----------+---+----------+----------+----+-------+------+----------+------------+--------------------+-----+\n",
      "|Usage|Lagging_rp|Leading_rp|CO2|Lagging_pf|Leading_pf| NSM|   week|   day|  loadtype|month_string|            features|label|\n",
      "+-----+----------+----------+---+----------+----------+----+-------+------+----------+------------+--------------------+-----+\n",
      "| 3.17|      2.95|       0.0|0.0|     73.21|     100.0| 900|Weekday|Monday|Light_Load|     January|(25,[0,1,4,5,6,7,...|  0.0|\n",
      "|  4.0|      4.46|       0.0|0.0|     66.77|     100.0|1800|Weekday|Monday|Light_Load|     January|(25,[0,1,4,5,6,7,...|  0.0|\n",
      "| 3.24|      3.28|       0.0|0.0|     70.28|     100.0|2700|Weekday|Monday|Light_Load|     January|(25,[0,1,4,5,6,7,...|  0.0|\n",
      "+-----+----------+----------+---+----------+----------+----+-------+------+----------+------------+--------------------+-----+\n",
      "only showing top 3 rows\n",
      "\n"
     ]
    }
   ],
   "source": [
    "final_DF.where(df3.loadtype=='Light_Load').show(3)"
   ]
  },
  {
   "cell_type": "code",
   "execution_count": 41,
   "id": "8c3d1d34",
   "metadata": {},
   "outputs": [
    {
     "name": "stdout",
     "output_type": "stream",
     "text": [
      "+-----+----------+----------+---+----------+----------+-----+-------+-------+-----------+------------+--------------------+-----+\n",
      "|Usage|Lagging_rp|Leading_rp|CO2|Lagging_pf|Leading_pf|  NSM|   week|    day|   loadtype|month_string|            features|label|\n",
      "+-----+----------+----------+---+----------+----------+-----+-------+-------+-----------+------------+--------------------+-----+\n",
      "|56.84|      8.32|       0.0|0.0|     98.95|     100.0|33300|Weekday|Tuesday|Medium_Load|     January|(25,[0,1,4,5,6,7,...|  1.0|\n",
      "|51.26|      4.54|      0.94|0.0|     99.61|     99.98|34200|Weekday|Tuesday|Medium_Load|     January|(25,[0,1,2,4,5,6,...|  1.0|\n",
      "|48.13|      2.34|      1.15|0.0|     99.88|     99.97|35100|Weekday|Tuesday|Medium_Load|     January|(25,[0,1,2,4,5,6,...|  1.0|\n",
      "+-----+----------+----------+---+----------+----------+-----+-------+-------+-----------+------------+--------------------+-----+\n",
      "only showing top 3 rows\n",
      "\n"
     ]
    }
   ],
   "source": [
    "final_DF.where(df3.loadtype=='Medium_Load').show(3)"
   ]
  },
  {
   "cell_type": "code",
   "execution_count": 42,
   "id": "b6684398",
   "metadata": {},
   "outputs": [],
   "source": [
    "# Light_Load = 0\n",
    "# Medium_Load = 1\n",
    "# Maximum_Load = 2"
   ]
  },
  {
   "cell_type": "markdown",
   "id": "505a85a1",
   "metadata": {},
   "source": [
    "## Splitting dataset into trainining and testing , retaining the ratio of classes in each dataset"
   ]
  },
  {
   "cell_type": "code",
   "execution_count": 43,
   "id": "db7dfd93",
   "metadata": {},
   "outputs": [],
   "source": [
    "#taking 0.666% of all labels into training set:\n",
    "train = final_DF.sampleBy(\"label\", fractions={ 0 : 0.666, \n",
    "                                        1 : 0.666,\n",
    "                                        2 : 0.666}, seed=10)"
   ]
  },
  {
   "cell_type": "code",
   "execution_count": 44,
   "id": "c808608b",
   "metadata": {},
   "outputs": [
    {
     "name": "stdout",
     "output_type": "stream",
     "text": [
      "+-----+-----+\n",
      "|label|count|\n",
      "+-----+-----+\n",
      "|  0.0|12032|\n",
      "|  1.0| 6415|\n",
      "|  2.0| 4860|\n",
      "+-----+-----+\n",
      "\n"
     ]
    }
   ],
   "source": [
    "#checking distribution of labels in the training dataset\n",
    "train.groupBy('label').count().show()"
   ]
  },
  {
   "cell_type": "code",
   "execution_count": 45,
   "id": "307b56e9",
   "metadata": {},
   "outputs": [
    {
     "name": "stdout",
     "output_type": "stream",
     "text": [
      "+-----+-----+\n",
      "|label|count|\n",
      "+-----+-----+\n",
      "|  0.0|18072|\n",
      "|  1.0| 9696|\n",
      "|  2.0| 7272|\n",
      "+-----+-----+\n",
      "\n"
     ]
    }
   ],
   "source": [
    "final_DF.groupBy('label').count().show()"
   ]
  },
  {
   "cell_type": "code",
   "execution_count": 46,
   "id": "1ea5fd74",
   "metadata": {},
   "outputs": [
    {
     "name": "stdout",
     "output_type": "stream",
     "text": [
      "23307\n",
      "35040\n"
     ]
    }
   ],
   "source": [
    "# check that train is roughly 0.66% of data set\n",
    "print(train.count())\n",
    "print(final_DF.count())"
   ]
  },
  {
   "cell_type": "code",
   "execution_count": 47,
   "id": "0e6b05d9",
   "metadata": {},
   "outputs": [],
   "source": [
    "#extracting the test data set by subtracting the training dataset from the original\n",
    "test = final_DF.subtract(train)"
   ]
  },
  {
   "cell_type": "code",
   "execution_count": 48,
   "id": "3160e6d5",
   "metadata": {},
   "outputs": [
    {
     "name": "stdout",
     "output_type": "stream",
     "text": [
      "+-----+-----+\n",
      "|label|count|\n",
      "+-----+-----+\n",
      "|  0.0| 6032|\n",
      "|  1.0| 3281|\n",
      "|  2.0| 2412|\n",
      "+-----+-----+\n",
      "\n"
     ]
    }
   ],
   "source": [
    "# checking that the distribution of the classes is correct\n",
    "test.groupBy('label').count().show()"
   ]
  },
  {
   "cell_type": "markdown",
   "id": "e9a2a1a1",
   "metadata": {},
   "source": [
    "# Decision Tree Classifier "
   ]
  },
  {
   "cell_type": "code",
   "execution_count": 49,
   "id": "3db7af5d",
   "metadata": {},
   "outputs": [],
   "source": [
    "bInput = train.selectExpr(\"features\", \"cast(label as double) as label\") "
   ]
  },
  {
   "cell_type": "code",
   "execution_count": 50,
   "id": "fb247d44",
   "metadata": {},
   "outputs": [],
   "source": [
    "dtc = DecisionTreeClassifier()"
   ]
  },
  {
   "cell_type": "code",
   "execution_count": 51,
   "id": "e68e7995",
   "metadata": {},
   "outputs": [
    {
     "name": "stdout",
     "output_type": "stream",
     "text": [
      "cacheNodeIds: If false, the algorithm will pass trees to executors to match instances with nodes. If true, the algorithm will cache node IDs for each instance. Caching can speed up training of deeper trees. Users can set how often should the cache be checkpointed or disable it by setting checkpointInterval. (default: False)\n",
      "checkpointInterval: set checkpoint interval (>= 1) or disable checkpoint (-1). E.g. 10 means that the cache will get checkpointed every 10 iterations. Note: this setting will be ignored if the checkpoint directory is not set in the SparkContext. (default: 10)\n",
      "featuresCol: features column name. (default: features)\n",
      "impurity: Criterion used for information gain calculation (case-insensitive). Supported options: entropy, gini (default: gini)\n",
      "labelCol: label column name. (default: label)\n",
      "leafCol: Leaf indices column name. Predicted leaf index of each instance in each tree by preorder. (default: )\n",
      "maxBins: Max number of bins for discretizing continuous features.  Must be >=2 and >= number of categories for any categorical feature. (default: 32)\n",
      "maxDepth: Maximum depth of the tree. (>= 0) E.g., depth 0 means 1 leaf node; depth 1 means 1 internal node + 2 leaf nodes. (default: 5)\n",
      "maxMemoryInMB: Maximum memory in MB allocated to histogram aggregation. If too small, then 1 node will be split per iteration, and its aggregates may exceed this size. (default: 256)\n",
      "minInfoGain: Minimum information gain for a split to be considered at a tree node. (default: 0.0)\n",
      "minInstancesPerNode: Minimum number of instances each child must have after split. If a split causes the left or right child to have fewer than minInstancesPerNode, the split will be discarded as invalid. Should be >= 1. (default: 1)\n",
      "minWeightFractionPerNode: Minimum fraction of the weighted sample count that each child must have after split. If a split causes the fraction of the total weight in the left or right child to be less than minWeightFractionPerNode, the split will be discarded as invalid. Should be in interval [0.0, 0.5). (default: 0.0)\n",
      "predictionCol: prediction column name. (default: prediction)\n",
      "probabilityCol: Column name for predicted class conditional probabilities. Note: Not all models output well-calibrated probability estimates! These probabilities should be treated as confidences, not precise probabilities. (default: probability)\n",
      "rawPredictionCol: raw prediction (a.k.a. confidence) column name. (default: rawPrediction)\n",
      "seed: random seed. (default: -4760665505054200600)\n",
      "thresholds: Thresholds in multi-class classification to adjust the probability of predicting each class. Array must have length equal to the number of classes, with values > 0, excepting that at most one value may be 0. The class with largest value p/t is predicted, where p is the original probability of that class and t is the class's threshold. (undefined)\n",
      "weightCol: weight column name. If this is not set or empty, we treat all instance weights as 1.0. (undefined)\n"
     ]
    }
   ],
   "source": [
    "print(dtc.explainParams())  "
   ]
  },
  {
   "cell_type": "code",
   "execution_count": 52,
   "id": "ae0f3411",
   "metadata": {},
   "outputs": [],
   "source": [
    "dtcModel = dtc.fit(bInput)"
   ]
  },
  {
   "cell_type": "code",
   "execution_count": 53,
   "id": "a98e4665",
   "metadata": {},
   "outputs": [],
   "source": [
    "predict_dtc = dtcModel.transform(bInput)"
   ]
  },
  {
   "cell_type": "code",
   "execution_count": 54,
   "id": "7d4b103c",
   "metadata": {},
   "outputs": [
    {
     "name": "stdout",
     "output_type": "stream",
     "text": [
      "+--------------------+-----+----------------+-------------+----------+\n",
      "|            features|label|   rawPrediction|  probability|prediction|\n",
      "+--------------------+-----+----------------+-------------+----------+\n",
      "|(25,[0,1,4,5,6,7,...|  0.0|[8781.0,0.0,0.0]|[1.0,0.0,0.0]|       0.0|\n",
      "|(25,[0,1,4,5,6,7,...|  0.0|[8781.0,0.0,0.0]|[1.0,0.0,0.0]|       0.0|\n",
      "|(25,[0,1,4,5,6,7,...|  0.0|[8781.0,0.0,0.0]|[1.0,0.0,0.0]|       0.0|\n",
      "|(25,[0,1,4,5,6,7,...|  0.0|[8781.0,0.0,0.0]|[1.0,0.0,0.0]|       0.0|\n",
      "|(25,[0,1,4,5,6,7,...|  0.0|[8781.0,0.0,0.0]|[1.0,0.0,0.0]|       0.0|\n",
      "+--------------------+-----+----------------+-------------+----------+\n",
      "only showing top 5 rows\n",
      "\n"
     ]
    }
   ],
   "source": [
    "predict_dtc.show(5)"
   ]
  },
  {
   "cell_type": "code",
   "execution_count": 55,
   "id": "0297fae7",
   "metadata": {},
   "outputs": [],
   "source": [
    "evaluator_dtc = MulticlassClassificationEvaluator(predictionCol=\"prediction\")"
   ]
  },
  {
   "cell_type": "code",
   "execution_count": 56,
   "id": "ec6593ae",
   "metadata": {},
   "outputs": [
    {
     "name": "stdout",
     "output_type": "stream",
     "text": [
      "Prediction Accuracy:  0.8550481324812342\n"
     ]
    }
   ],
   "source": [
    "acc = evaluator_dtc.evaluate(predict_dtc)\n",
    "print(\"Prediction Accuracy: \", acc)"
   ]
  },
  {
   "cell_type": "code",
   "execution_count": 57,
   "id": "273dc176",
   "metadata": {},
   "outputs": [
    {
     "data": {
      "text/plain": [
       "SparseVector(25, {0: 0.1786, 2: 0.0461, 6: 0.728, 11: 0.0338, 16: 0.0135})"
      ]
     },
     "execution_count": 57,
     "metadata": {},
     "output_type": "execute_result"
    }
   ],
   "source": [
    "dtcModel.featureImportances"
   ]
  },
  {
   "cell_type": "code",
   "execution_count": 58,
   "id": "0f174ff0",
   "metadata": {},
   "outputs": [],
   "source": [
    "#tuning decision tree\n",
    "\n",
    "assembler = VectorAssembler(\n",
    "  inputCols = ['Usage_kWh',\n",
    " 'Lagging_Current_Reactive.Power_kVarh',\n",
    " 'Leading_Current_Reactive_Power_kVarh',\n",
    " 'CO2(tCO2)',\n",
    " 'Lagging_Current_Power_Factor',\n",
    " 'Leading_Current_Power_Factor',\n",
    " 'NSM',\n",
    " 'WeekStatus',\n",
    " 'Day_of_week',\n",
    " 'Load_Type'],\n",
    "  outputCol = \"features\")"
   ]
  },
  {
   "cell_type": "code",
   "execution_count": 59,
   "id": "f58dd39f",
   "metadata": {},
   "outputs": [],
   "source": [
    "classifier = DecisionTreeClassifier(featuresCol=\"features\", labelCol=\"label\")"
   ]
  },
  {
   "cell_type": "code",
   "execution_count": 60,
   "id": "3552646f",
   "metadata": {},
   "outputs": [],
   "source": [
    "labelIndexer = StringIndexer(inputCol=\"label\", outputCol=\"indexedLabel\").fit(test)"
   ]
  },
  {
   "cell_type": "code",
   "execution_count": 61,
   "id": "869ab1da",
   "metadata": {},
   "outputs": [],
   "source": [
    "featureIndexer =\\\n",
    "    VectorIndexer(inputCol=\"features\", outputCol=\"indexedFeatures\", maxCategories=4).fit(predict_dtc)"
   ]
  },
  {
   "cell_type": "code",
   "execution_count": 62,
   "id": "3b1bbb63",
   "metadata": {},
   "outputs": [],
   "source": [
    "pipeline = Pipeline(stages=[labelIndexer, featureIndexer, classifier])"
   ]
  },
  {
   "cell_type": "code",
   "execution_count": 63,
   "id": "275b762d",
   "metadata": {},
   "outputs": [],
   "source": [
    "model = pipeline.fit(test)"
   ]
  },
  {
   "cell_type": "code",
   "execution_count": 64,
   "id": "52726973",
   "metadata": {},
   "outputs": [],
   "source": [
    "predictions = model.transform(test)"
   ]
  },
  {
   "cell_type": "code",
   "execution_count": 65,
   "id": "3ec065a9",
   "metadata": {},
   "outputs": [
    {
     "name": "stdout",
     "output_type": "stream",
     "text": [
      "+----------+------------+--------------------+\n",
      "|prediction|indexedLabel|            features|\n",
      "+----------+------------+--------------------+\n",
      "|       2.0|         1.0|(25,[0,1,3,4,5,6,...|\n",
      "|       1.0|         1.0|(25,[0,2,4,5,6,7,...|\n",
      "|       2.0|         1.0|(25,[0,1,2,3,4,5,...|\n",
      "|       1.0|         2.0|(25,[0,1,4,5,6,7,...|\n",
      "|       2.0|         2.0|(25,[0,1,3,4,5,6,...|\n",
      "+----------+------------+--------------------+\n",
      "only showing top 5 rows\n",
      "\n"
     ]
    }
   ],
   "source": [
    "predictions.select(\"prediction\", \"indexedLabel\", \"features\").show(5)"
   ]
  },
  {
   "cell_type": "code",
   "execution_count": 66,
   "id": "a3305108",
   "metadata": {},
   "outputs": [
    {
     "name": "stdout",
     "output_type": "stream",
     "text": [
      "Test Error = 0.143923\n",
      "Accuracy = 0.856077\n"
     ]
    }
   ],
   "source": [
    "accuracy_dtc = evaluator_dtc.evaluate(predictions)\n",
    "accuracy_dtc = evaluator_dtc.evaluate(predictions)\n",
    "print('Test Error = %g' % (1.0 - accuracy_dtc))\n",
    "print('Accuracy = %g' % (accuracy_dtc))"
   ]
  },
  {
   "cell_type": "code",
   "execution_count": 67,
   "id": "c93a4c2b",
   "metadata": {},
   "outputs": [],
   "source": [
    "paramGrid = ParamGridBuilder() \\\n",
    " .addGrid(classifier.maxDepth, [10, 20, 30]) \\\n",
    " .addGrid(classifier.maxBins, [300, 400, 500]) \\\n",
    " .build()"
   ]
  },
  {
   "cell_type": "code",
   "execution_count": 68,
   "id": "8b491828",
   "metadata": {},
   "outputs": [],
   "source": [
    "tvs = TrainValidationSplit(\n",
    "  estimator=pipeline,\n",
    "  estimatorParamMaps=paramGrid,\n",
    "  evaluator=MulticlassClassificationEvaluator(labelCol=\"label\", predictionCol=\"prediction\"),\n",
    "  trainRatio=0.6)  # data is separated by 66% and 33%, in which the former is used for training and the latter for evaluation\n",
    "model = tvs.fit(test)"
   ]
  },
  {
   "cell_type": "code",
   "execution_count": 69,
   "id": "4566d633",
   "metadata": {},
   "outputs": [
    {
     "data": {
      "text/plain": [
       "[(0.9524972126533049,\n",
       "  {Param(parent='DecisionTreeClassifier_c370dfbee594', name='maxDepth', doc='Maximum depth of the tree. (>= 0) E.g., depth 0 means 1 leaf node; depth 1 means 1 internal node + 2 leaf nodes.'): 10,\n",
       "   Param(parent='DecisionTreeClassifier_c370dfbee594', name='maxBins', doc='Max number of bins for discretizing continuous features.  Must be >=2 and >= number of categories for any categorical feature.'): 300}),\n",
       " (0.9529084218703203,\n",
       "  {Param(parent='DecisionTreeClassifier_c370dfbee594', name='maxDepth', doc='Maximum depth of the tree. (>= 0) E.g., depth 0 means 1 leaf node; depth 1 means 1 internal node + 2 leaf nodes.'): 10,\n",
       "   Param(parent='DecisionTreeClassifier_c370dfbee594', name='maxBins', doc='Max number of bins for discretizing continuous features.  Must be >=2 and >= number of categories for any categorical feature.'): 400}),\n",
       " (0.9512143278709987,\n",
       "  {Param(parent='DecisionTreeClassifier_c370dfbee594', name='maxDepth', doc='Maximum depth of the tree. (>= 0) E.g., depth 0 means 1 leaf node; depth 1 means 1 internal node + 2 leaf nodes.'): 10,\n",
       "   Param(parent='DecisionTreeClassifier_c370dfbee594', name='maxBins', doc='Max number of bins for discretizing continuous features.  Must be >=2 and >= number of categories for any categorical feature.'): 500}),\n",
       " (0.9498421945025564,\n",
       "  {Param(parent='DecisionTreeClassifier_c370dfbee594', name='maxDepth', doc='Maximum depth of the tree. (>= 0) E.g., depth 0 means 1 leaf node; depth 1 means 1 internal node + 2 leaf nodes.'): 20,\n",
       "   Param(parent='DecisionTreeClassifier_c370dfbee594', name='maxBins', doc='Max number of bins for discretizing continuous features.  Must be >=2 and >= number of categories for any categorical feature.'): 300}),\n",
       " (0.9498640498449706,\n",
       "  {Param(parent='DecisionTreeClassifier_c370dfbee594', name='maxDepth', doc='Maximum depth of the tree. (>= 0) E.g., depth 0 means 1 leaf node; depth 1 means 1 internal node + 2 leaf nodes.'): 20,\n",
       "   Param(parent='DecisionTreeClassifier_c370dfbee594', name='maxBins', doc='Max number of bins for discretizing continuous features.  Must be >=2 and >= number of categories for any categorical feature.'): 400}),\n",
       " (0.9492045762338563,\n",
       "  {Param(parent='DecisionTreeClassifier_c370dfbee594', name='maxDepth', doc='Maximum depth of the tree. (>= 0) E.g., depth 0 means 1 leaf node; depth 1 means 1 internal node + 2 leaf nodes.'): 20,\n",
       "   Param(parent='DecisionTreeClassifier_c370dfbee594', name='maxBins', doc='Max number of bins for discretizing continuous features.  Must be >=2 and >= number of categories for any categorical feature.'): 500}),\n",
       " (0.9494232163876737,\n",
       "  {Param(parent='DecisionTreeClassifier_c370dfbee594', name='maxDepth', doc='Maximum depth of the tree. (>= 0) E.g., depth 0 means 1 leaf node; depth 1 means 1 internal node + 2 leaf nodes.'): 30,\n",
       "   Param(parent='DecisionTreeClassifier_c370dfbee594', name='maxBins', doc='Max number of bins for discretizing continuous features.  Must be >=2 and >= number of categories for any categorical feature.'): 300}),\n",
       " (0.9498640498449706,\n",
       "  {Param(parent='DecisionTreeClassifier_c370dfbee594', name='maxDepth', doc='Maximum depth of the tree. (>= 0) E.g., depth 0 means 1 leaf node; depth 1 means 1 internal node + 2 leaf nodes.'): 30,\n",
       "   Param(parent='DecisionTreeClassifier_c370dfbee594', name='maxBins', doc='Max number of bins for discretizing continuous features.  Must be >=2 and >= number of categories for any categorical feature.'): 400}),\n",
       " (0.9500750625443137,\n",
       "  {Param(parent='DecisionTreeClassifier_c370dfbee594', name='maxDepth', doc='Maximum depth of the tree. (>= 0) E.g., depth 0 means 1 leaf node; depth 1 means 1 internal node + 2 leaf nodes.'): 30,\n",
       "   Param(parent='DecisionTreeClassifier_c370dfbee594', name='maxBins', doc='Max number of bins for discretizing continuous features.  Must be >=2 and >= number of categories for any categorical feature.'): 500})]"
      ]
     },
     "execution_count": 69,
     "metadata": {},
     "output_type": "execute_result"
    }
   ],
   "source": [
    "list(zip(model.validationMetrics, model.getEstimatorParamMaps()))"
   ]
  },
  {
   "cell_type": "markdown",
   "id": "6fd46f7e",
   "metadata": {},
   "source": [
    "# random forest classifier"
   ]
  },
  {
   "cell_type": "code",
   "execution_count": 70,
   "id": "74df635f",
   "metadata": {},
   "outputs": [],
   "source": [
    "rfc = RandomForestClassifier()"
   ]
  },
  {
   "cell_type": "code",
   "execution_count": 71,
   "id": "44f4d32e",
   "metadata": {},
   "outputs": [
    {
     "name": "stdout",
     "output_type": "stream",
     "text": [
      "bootstrap: Whether bootstrap samples are used when building trees. (default: True)\n",
      "cacheNodeIds: If false, the algorithm will pass trees to executors to match instances with nodes. If true, the algorithm will cache node IDs for each instance. Caching can speed up training of deeper trees. Users can set how often should the cache be checkpointed or disable it by setting checkpointInterval. (default: False)\n",
      "checkpointInterval: set checkpoint interval (>= 1) or disable checkpoint (-1). E.g. 10 means that the cache will get checkpointed every 10 iterations. Note: this setting will be ignored if the checkpoint directory is not set in the SparkContext. (default: 10)\n",
      "featureSubsetStrategy: The number of features to consider for splits at each tree node. Supported options: 'auto' (choose automatically for task: If numTrees == 1, set to 'all'. If numTrees > 1 (forest), set to 'sqrt' for classification and to 'onethird' for regression), 'all' (use all features), 'onethird' (use 1/3 of the features), 'sqrt' (use sqrt(number of features)), 'log2' (use log2(number of features)), 'n' (when n is in the range (0, 1.0], use n * number of features. When n is in the range (1, number of features), use n features). default = 'auto' (default: auto)\n",
      "featuresCol: features column name. (default: features)\n",
      "impurity: Criterion used for information gain calculation (case-insensitive). Supported options: entropy, gini (default: gini)\n",
      "labelCol: label column name. (default: label)\n",
      "leafCol: Leaf indices column name. Predicted leaf index of each instance in each tree by preorder. (default: )\n",
      "maxBins: Max number of bins for discretizing continuous features.  Must be >=2 and >= number of categories for any categorical feature. (default: 32)\n",
      "maxDepth: Maximum depth of the tree. (>= 0) E.g., depth 0 means 1 leaf node; depth 1 means 1 internal node + 2 leaf nodes. (default: 5)\n",
      "maxMemoryInMB: Maximum memory in MB allocated to histogram aggregation. If too small, then 1 node will be split per iteration, and its aggregates may exceed this size. (default: 256)\n",
      "minInfoGain: Minimum information gain for a split to be considered at a tree node. (default: 0.0)\n",
      "minInstancesPerNode: Minimum number of instances each child must have after split. If a split causes the left or right child to have fewer than minInstancesPerNode, the split will be discarded as invalid. Should be >= 1. (default: 1)\n",
      "minWeightFractionPerNode: Minimum fraction of the weighted sample count that each child must have after split. If a split causes the fraction of the total weight in the left or right child to be less than minWeightFractionPerNode, the split will be discarded as invalid. Should be in interval [0.0, 0.5). (default: 0.0)\n",
      "numTrees: Number of trees to train (>= 1). (default: 20)\n",
      "predictionCol: prediction column name. (default: prediction)\n",
      "probabilityCol: Column name for predicted class conditional probabilities. Note: Not all models output well-calibrated probability estimates! These probabilities should be treated as confidences, not precise probabilities. (default: probability)\n",
      "rawPredictionCol: raw prediction (a.k.a. confidence) column name. (default: rawPrediction)\n",
      "seed: random seed. (default: -7731413864840471539)\n",
      "subsamplingRate: Fraction of the training data used for learning each decision tree, in range (0, 1]. (default: 1.0)\n",
      "thresholds: Thresholds in multi-class classification to adjust the probability of predicting each class. Array must have length equal to the number of classes, with values > 0, excepting that at most one value may be 0. The class with largest value p/t is predicted, where p is the original probability of that class and t is the class's threshold. (undefined)\n",
      "weightCol: weight column name. If this is not set or empty, we treat all instance weights as 1.0. (undefined)\n"
     ]
    }
   ],
   "source": [
    "print(rfc.explainParams())"
   ]
  },
  {
   "cell_type": "code",
   "execution_count": 72,
   "id": "eea44e23",
   "metadata": {},
   "outputs": [],
   "source": [
    "rfcModel = rfc.fit(bInput)"
   ]
  },
  {
   "cell_type": "code",
   "execution_count": 73,
   "id": "ad3d3699",
   "metadata": {},
   "outputs": [],
   "source": [
    "predict_rfc = rfcModel.transform(bInput)"
   ]
  },
  {
   "cell_type": "code",
   "execution_count": 74,
   "id": "6815eeef",
   "metadata": {},
   "outputs": [
    {
     "name": "stdout",
     "output_type": "stream",
     "text": [
      "+--------------------+-----+--------------------+--------------------+----------+\n",
      "|            features|label|       rawPrediction|         probability|prediction|\n",
      "+--------------------+-----+--------------------+--------------------+----------+\n",
      "|(25,[0,1,4,5,6,7,...|  0.0|[19.4316868470761...|[0.97158434235380...|       0.0|\n",
      "|(25,[0,1,4,5,6,7,...|  0.0|[19.4316868470761...|[0.97158434235380...|       0.0|\n",
      "|(25,[0,1,4,5,6,7,...|  0.0|[19.3852743796923...|[0.96926371898461...|       0.0|\n",
      "|(25,[0,1,4,5,6,7,...|  0.0|[19.4316868470761...|[0.97158434235380...|       0.0|\n",
      "|(25,[0,1,4,5,6,7,...|  0.0|[19.3852743796923...|[0.96926371898461...|       0.0|\n",
      "+--------------------+-----+--------------------+--------------------+----------+\n",
      "only showing top 5 rows\n",
      "\n"
     ]
    }
   ],
   "source": [
    "predict_rfc.show(5)"
   ]
  },
  {
   "cell_type": "code",
   "execution_count": 75,
   "id": "6a2bbcf4",
   "metadata": {},
   "outputs": [
    {
     "name": "stdout",
     "output_type": "stream",
     "text": [
      "+-----+----------+--------------------+\n",
      "|label|prediction|         probability|\n",
      "+-----+----------+--------------------+\n",
      "|  0.0|       0.0|[0.97158434235380...|\n",
      "|  0.0|       0.0|[0.97158434235380...|\n",
      "|  0.0|       0.0|[0.96926371898461...|\n",
      "|  0.0|       0.0|[0.97158434235380...|\n",
      "|  0.0|       0.0|[0.96926371898461...|\n",
      "+-----+----------+--------------------+\n",
      "only showing top 5 rows\n",
      "\n"
     ]
    }
   ],
   "source": [
    "predict_rfc.select('label', 'prediction', 'probability').show(5)"
   ]
  },
  {
   "cell_type": "code",
   "execution_count": 76,
   "id": "b7702b8b",
   "metadata": {},
   "outputs": [
    {
     "data": {
      "text/plain": [
       "Row(features=SparseVector(25, {0: 3.17, 1: 2.95, 4: 73.21, 5: 100.0, 6: 900.0, 7: 1.0, 8: 1.0, 16: 1.0}), label=0.0, rawPrediction=DenseVector([19.4317, 0.4396, 0.1287]), probability=DenseVector([0.9716, 0.022, 0.0064]), prediction=0.0)"
      ]
     },
     "execution_count": 76,
     "metadata": {},
     "output_type": "execute_result"
    }
   ],
   "source": [
    "predict_rfc.head()"
   ]
  },
  {
   "cell_type": "code",
   "execution_count": 77,
   "id": "19be7011",
   "metadata": {},
   "outputs": [],
   "source": [
    "evaluator_rfc = MulticlassClassificationEvaluator(predictionCol=\"prediction\")"
   ]
  },
  {
   "cell_type": "code",
   "execution_count": 78,
   "id": "edd9601d",
   "metadata": {},
   "outputs": [
    {
     "data": {
      "text/plain": [
       "0.7899338356918402"
      ]
     },
     "execution_count": 78,
     "metadata": {},
     "output_type": "execute_result"
    }
   ],
   "source": [
    "evaluator_rfc.setMetricName(\"accuracy\").evaluate(predict_rfc)\n",
    "evaluator_rfc.setMetricName(\"f1\").evaluate(predict_rfc)"
   ]
  },
  {
   "cell_type": "code",
   "execution_count": 79,
   "id": "61c401de",
   "metadata": {},
   "outputs": [
    {
     "name": "stdout",
     "output_type": "stream",
     "text": [
      "We will use 106  events for the grid search.\n"
     ]
    }
   ],
   "source": [
    "#fine tuning random forest using grid search\n",
    "subSample = test.sample(fraction=1.0/120, withReplacement=False).cache()\n",
    "print('We will use',subSample.count(),' events for the grid search.')\n"
   ]
  },
  {
   "cell_type": "code",
   "execution_count": 80,
   "id": "21c85143",
   "metadata": {},
   "outputs": [],
   "source": [
    "rf = RandomForestClassifier(labelCol='label', featuresCol='features', \n",
    "                            maxBins=20, subsamplingRate=0.6,\n",
    "                            minInfoGain= 1e-05,\n",
    "                            featureSubsetStrategy='all',\n",
    "                            minInstancesPerNode=2)"
   ]
  },
  {
   "cell_type": "code",
   "execution_count": 81,
   "id": "9671dce7",
   "metadata": {},
   "outputs": [],
   "source": [
    "paramGrid_rf = ParamGridBuilder()\\\n",
    "  .addGrid(rf.maxDepth, [2,4,10])\\\n",
    "  .addGrid(rf.numTrees, [100, 250, 600,800,1000])\\\n",
    "  .build()"
   ]
  },
  {
   "cell_type": "code",
   "execution_count": 82,
   "id": "46e75ab0",
   "metadata": {},
   "outputs": [],
   "source": [
    "# We define an evaluation metric.  This tells CrossValidator how well we are doing by comparing the true labels with predictions.\n",
    "evaluator = MulticlassClassificationEvaluator(metricName=\"f1\", labelCol=rf.getLabelCol(), predictionCol=rf.getPredictionCol())\n",
    "# Declare the CrossValidator, which runs model tuning for us.\n",
    "cv_rfc = CrossValidator(estimator=rf, \n",
    "                        evaluator=evaluator, \n",
    "                        estimatorParamMaps=paramGrid_rf,\n",
    "                        numFolds=3)\n"
   ]
  },
  {
   "cell_type": "code",
   "execution_count": 83,
   "id": "87012d66",
   "metadata": {},
   "outputs": [],
   "source": [
    "rfcModel=cv_rfc.fit(subSample) "
   ]
  },
  {
   "cell_type": "code",
   "execution_count": 86,
   "id": "ef6ea521",
   "metadata": {},
   "outputs": [
    {
     "name": "stdout",
     "output_type": "stream",
     "text": [
      "CrossValidatorModel_067c1e0991c4\n"
     ]
    }
   ],
   "source": [
    "print(rfcModel)"
   ]
  },
  {
   "cell_type": "code",
   "execution_count": 92,
   "id": "df7a9f14",
   "metadata": {},
   "outputs": [
    {
     "name": "stdout",
     "output_type": "stream",
     "text": [
      "+-----+----------+----------+----+----------+----------+-----+-------+---------+------------+------------+--------------------+-----+--------------------+--------------------+----------+\n",
      "|Usage|Lagging_rp|Leading_rp| CO2|Lagging_pf|Leading_pf|  NSM|   week|      day|    loadtype|month_string|            features|label|       rawPrediction|         probability|prediction|\n",
      "+-----+----------+----------+----+----------+----------+-----+-------+---------+------------+------------+--------------------+-----+--------------------+--------------------+----------+\n",
      "| 3.17|      4.28|       0.0| 0.0|     59.52|     100.0|18900|Weekend| Saturday|  Light_Load|    November|(25,[0,1,4,5,6,10...|  0.0|[99.0976148484247...|[0.99097614848424...|       0.0|\n",
      "| 2.81|       0.0|     11.59| 0.0|     100.0|     23.56|47700|Weekend|   Sunday|  Light_Load|   September|(25,[0,2,4,5,6,11...|  0.0|[90.9001885900425...|[0.90900188590042...|       0.0|\n",
      "|26.53|      1.19|      1.37|0.01|      99.9|     99.87|63900|Weekend| Saturday| Medium_Load|     October|(25,[0,1,2,3,4,5,...|  1.0|[3.30611697670521...|[0.03306116976705...|       1.0|\n",
      "| 3.67|       0.0|     10.62| 0.0|     100.0|     32.66|45900|Weekday|   Monday| Medium_Load|     October|(25,[0,2,4,5,6,7,...|  1.0|[43.3814859419281...|[0.43381485941928...|       1.0|\n",
      "|57.53|     25.85|       0.0|0.03|     91.21|     100.0|51300|Weekday|Wednesday|Maximum_Load|        July|(25,[0,1,3,4,5,6,...|  2.0|[0.60846560846560...|[0.00608465608465...|       2.0|\n",
      "+-----+----------+----------+----+----------+----------+-----+-------+---------+------------+------------+--------------------+-----+--------------------+--------------------+----------+\n",
      "only showing top 5 rows\n",
      "\n"
     ]
    }
   ],
   "source": [
    "rfc_best = rfcModel.transform(subSample)\n",
    "rfc_best.show(5)"
   ]
  },
  {
   "cell_type": "code",
   "execution_count": 93,
   "id": "991a670b",
   "metadata": {},
   "outputs": [
    {
     "name": "stdout",
     "output_type": "stream",
     "text": [
      "0.9332841558160309\n"
     ]
    }
   ],
   "source": [
    "print(evaluator.evaluate(rfc_best))"
   ]
  },
  {
   "cell_type": "markdown",
   "id": "f33a5472",
   "metadata": {},
   "source": [
    "# logistic regression classifier"
   ]
  },
  {
   "cell_type": "code",
   "execution_count": 94,
   "id": "2920eccc",
   "metadata": {},
   "outputs": [
    {
     "name": "stdout",
     "output_type": "stream",
     "text": [
      "+--------------------+-----+\n",
      "|            features|label|\n",
      "+--------------------+-----+\n",
      "|(25,[0,1,4,5,6,7,...|  0.0|\n",
      "|(25,[0,1,4,5,6,7,...|  0.0|\n",
      "|(25,[0,1,4,5,6,7,...|  0.0|\n",
      "|(25,[0,1,4,5,6,7,...|  0.0|\n",
      "|(25,[0,1,4,5,6,7,...|  0.0|\n",
      "|(25,[0,1,4,5,6,7,...|  0.0|\n",
      "|(25,[0,1,4,5,6,7,...|  0.0|\n",
      "|(25,[0,1,4,5,6,7,...|  0.0|\n",
      "|(25,[0,1,4,5,6,7,...|  0.0|\n",
      "|(25,[0,1,4,5,6,7,...|  0.0|\n",
      "|(25,[0,1,4,5,6,7,...|  0.0|\n",
      "|(25,[0,1,4,5,6,7,...|  0.0|\n",
      "|(25,[0,1,4,5,6,7,...|  0.0|\n",
      "|(25,[0,1,4,5,6,7,...|  0.0|\n",
      "|(25,[0,1,4,5,6,7,...|  0.0|\n",
      "|(25,[0,1,4,5,6,7,...|  0.0|\n",
      "|(25,[0,1,4,5,6,7,...|  0.0|\n",
      "|(25,[0,1,4,5,6,7,...|  0.0|\n",
      "|(25,[0,1,4,5,6,7,...|  0.0|\n",
      "|(25,[0,1,4,5,6,7,...|  0.0|\n",
      "+--------------------+-----+\n",
      "only showing top 20 rows\n",
      "\n"
     ]
    }
   ],
   "source": [
    "bInput.show()"
   ]
  },
  {
   "cell_type": "code",
   "execution_count": 95,
   "id": "e8f06e86",
   "metadata": {},
   "outputs": [],
   "source": [
    "cInput = test.selectExpr(\"features\", \"cast(label as double) as label\")"
   ]
  },
  {
   "cell_type": "code",
   "execution_count": 96,
   "id": "eca8fc08",
   "metadata": {},
   "outputs": [
    {
     "name": "stdout",
     "output_type": "stream",
     "text": [
      "+--------------------+-----+\n",
      "|            features|label|\n",
      "+--------------------+-----+\n",
      "|(25,[0,1,3,4,5,6,...|  1.0|\n",
      "|(25,[0,2,4,5,6,7,...|  1.0|\n",
      "|(25,[0,1,2,3,4,5,...|  1.0|\n",
      "|(25,[0,1,4,5,6,7,...|  2.0|\n",
      "|(25,[0,1,3,4,5,6,...|  2.0|\n",
      "|(25,[0,1,4,5,6,7,...|  0.0|\n",
      "|(25,[0,1,3,4,5,6,...|  1.0|\n",
      "|(25,[0,1,2,3,4,5,...|  1.0|\n",
      "|(25,[0,1,3,4,5,6,...|  1.0|\n",
      "|(25,[0,1,4,5,6,10...|  0.0|\n",
      "|(25,[0,1,2,3,4,5,...|  1.0|\n",
      "|(25,[0,1,3,4,5,6,...|  2.0|\n",
      "|(25,[0,1,3,4,5,6,...|  2.0|\n",
      "|(25,[0,1,3,4,5,6,...|  2.0|\n",
      "|(25,[0,2,4,5,6,7,...|  1.0|\n",
      "|(25,[0,1,4,5,6,7,...|  0.0|\n",
      "|(25,[0,1,3,4,5,6,...|  2.0|\n",
      "|(25,[0,2,4,5,6,11...|  0.0|\n",
      "|(25,[0,2,4,5,6,7,...|  0.0|\n",
      "|(25,[0,2,4,5,6,7,...|  1.0|\n",
      "+--------------------+-----+\n",
      "only showing top 20 rows\n",
      "\n"
     ]
    }
   ],
   "source": [
    "cInput.show()"
   ]
  },
  {
   "cell_type": "code",
   "execution_count": 97,
   "id": "2e045d92",
   "metadata": {},
   "outputs": [],
   "source": [
    "lr = LogisticRegression() "
   ]
  },
  {
   "cell_type": "code",
   "execution_count": 98,
   "id": "61d4d0ba",
   "metadata": {},
   "outputs": [],
   "source": [
    "#train model\n",
    "lrModel = lr.fit(bInput) "
   ]
  },
  {
   "cell_type": "code",
   "execution_count": 99,
   "id": "90d1a3f9",
   "metadata": {},
   "outputs": [
    {
     "name": "stdout",
     "output_type": "stream",
     "text": [
      "Coefficients: DenseMatrix([[-9.66791224e-02,  8.45465175e-02, -2.30153877e-01,\n",
      "               5.64577154e+01, -6.45828848e-02, -7.35019141e-02,\n",
      "              -4.94360844e-05,  1.14413030e+01,  1.83727562e-02,\n",
      "               1.00341970e-01,  1.18524364e+01,  1.27161317e+01,\n",
      "               1.19494845e-01,  1.77158263e-01, -1.74214307e+00,\n",
      "              -6.79562290e-01, -3.96763740e-01, -2.29481481e+00,\n",
      "              -1.36655471e+00, -1.60071689e+00, -2.21748598e+00,\n",
      "              -1.71172650e+00, -1.84559711e+00, -1.57587166e+00,\n",
      "              -2.31843211e+00],\n",
      "             [ 6.38504511e-02, -7.84117848e-02,  1.19346625e-01,\n",
      "              -2.74093415e+01,  1.18084949e-02,  1.94043482e-02,\n",
      "               3.42452577e-05, -3.78862576e+00,  6.55123529e-02,\n",
      "              -8.11529109e-03, -4.33654312e+00, -4.90167139e+00,\n",
      "               7.73097327e-02, -2.74496902e-02,  1.03426428e+00,\n",
      "               3.52210665e-01,  2.73015964e-01,  1.26015433e+00,\n",
      "               7.08004614e-01,  8.53171682e-01,  1.40126670e+00,\n",
      "               9.07183091e-01,  9.45267632e-01,  9.97570657e-01,\n",
      "               1.31134553e+00],\n",
      "             [ 3.28286712e-02, -6.13473271e-03,  1.10807252e-01,\n",
      "              -2.90483739e+01,  5.27743899e-02,  5.40975659e-02,\n",
      "               1.51908266e-05, -7.65267721e+00, -8.38851091e-02,\n",
      "              -9.22266794e-02, -7.51589328e+00, -7.81446028e+00,\n",
      "              -1.96804578e-01, -1.49708572e-01,  7.07878794e-01,\n",
      "               3.27351625e-01,  1.23747776e-01,  1.03466048e+00,\n",
      "               6.58550096e-01,  7.47545212e-01,  8.16219278e-01,\n",
      "               8.04543414e-01,  9.00329477e-01,  5.78301007e-01,\n",
      "               1.00708658e+00]])\n",
      "Intercept: [5.842023403689617,-2.016539513827238,-3.825483889862379]\n"
     ]
    }
   ],
   "source": [
    "print(\"Coefficients:\" , lrModel.coefficientMatrix)\n",
    "print(\"Intercept:\" , lrModel.interceptVector) "
   ]
  },
  {
   "cell_type": "code",
   "execution_count": 100,
   "id": "e8bc7c2f",
   "metadata": {},
   "outputs": [
    {
     "name": "stdout",
     "output_type": "stream",
     "text": [
      "+--------------------+-----+--------------------+--------------------+----------+\n",
      "|            features|label|       rawPrediction|         probability|prediction|\n",
      "+--------------------+-----+--------------------+--------------------+----------+\n",
      "|(25,[0,1,3,4,5,6,...|  1.0|[-3.5335759652031...|[0.00248060112079...|       1.0|\n",
      "|(25,[0,2,4,5,6,7,...|  1.0|[-0.9659328695447...|[0.07047768796314...|       1.0|\n",
      "|(25,[0,1,2,3,4,5,...|  1.0|[-2.8721325474488...|[0.00667276647268...|       2.0|\n",
      "|(25,[0,1,4,5,6,7,...|  2.0|[1.45329069172498...|[0.78646927209495...|       0.0|\n",
      "|(25,[0,1,3,4,5,6,...|  2.0|[-0.4116765733897...|[0.18154466137097...|       2.0|\n",
      "+--------------------+-----+--------------------+--------------------+----------+\n",
      "only showing top 5 rows\n",
      "\n"
     ]
    }
   ],
   "source": [
    "# Make predictions.\n",
    "predictions = lrModel.transform(cInput)\n",
    "# Select example rows to display.\n",
    "predictions.show(5)"
   ]
  },
  {
   "cell_type": "code",
   "execution_count": 101,
   "id": "5988c3b4",
   "metadata": {},
   "outputs": [
    {
     "name": "stdout",
     "output_type": "stream",
     "text": [
      "Test Error = 0.22951\n"
     ]
    }
   ],
   "source": [
    "# Select (prediction, true label) and compute test error\n",
    "evaluator = MulticlassClassificationEvaluator(\n",
    "    labelCol=\"label\", predictionCol=\"prediction\", metricName=\"accuracy\")\n",
    "accuracy = evaluator.evaluate(predictions)\n",
    "print(\"Test Error = %g\" % (1.0 - accuracy))"
   ]
  },
  {
   "cell_type": "code",
   "execution_count": 102,
   "id": "f643c208",
   "metadata": {},
   "outputs": [],
   "source": [
    "summary = lrModel.summary "
   ]
  },
  {
   "cell_type": "markdown",
   "id": "87e7062c",
   "metadata": {},
   "source": [
    "Light_Load = 0 <br>\n",
    "Medium_Load = 1 <br>\n",
    "Maximum_Load = 2"
   ]
  },
  {
   "cell_type": "code",
   "execution_count": 103,
   "id": "4cb4dde0",
   "metadata": {},
   "outputs": [
    {
     "name": "stdout",
     "output_type": "stream",
     "text": [
      "objectiveHistory:\n",
      "1.0233212397836577\n",
      "0.9688454276740561\n",
      "0.9097658673073872\n",
      "0.7041156199419196\n",
      "0.6738714455375906\n",
      "0.6477152171732009\n",
      "0.6387441981335752\n",
      "0.6183201038541539\n",
      "0.6053318159904975\n",
      "0.5892746161406399\n",
      "0.5695558450047382\n",
      "0.5546919687762313\n",
      "0.5407445590696522\n",
      "0.5235693967068195\n",
      "0.518571777702888\n",
      "0.5175264178361899\n",
      "0.5164086719738762\n",
      "0.5162467947038777\n",
      "0.5150238054968461\n",
      "0.5142453159275436\n",
      "0.5128753144630311\n",
      "0.5108798296742327\n",
      "0.5067139269650872\n",
      "0.5024002271866834\n",
      "0.49929615219805035\n",
      "0.49826616564998133\n",
      "0.4971339734421706\n",
      "0.496967806215201\n",
      "0.49604584212564884\n",
      "0.4952567197111512\n",
      "0.4945965671713219\n",
      "0.49382529910281975\n",
      "0.49348034262532614\n",
      "0.49289428410310326\n",
      "0.4921819883524912\n",
      "0.4902577529017682\n",
      "0.4890485742164363\n",
      "0.4882118513944619\n",
      "0.4873587322464248\n",
      "0.48641171013331536\n",
      "0.4847902971377141\n",
      "0.48419343328493036\n",
      "0.48353509111705567\n",
      "0.48244814382391715\n",
      "0.4820496510738408\n",
      "0.48145679122276575\n",
      "0.4809221066080055\n",
      "0.479980529329635\n",
      "0.47865626693842367\n",
      "0.47575349567645503\n",
      "0.4751718187493814\n",
      "0.47348518310722804\n",
      "0.47269326319044536\n",
      "0.47218980147112777\n",
      "0.4716148710441317\n",
      "0.4710793405261754\n",
      "0.47058987382670253\n",
      "0.47032449725881154\n",
      "0.4700129407587378\n",
      "0.4690230290167867\n",
      "0.46867771460277574\n",
      "0.4682110950531589\n",
      "0.46775504648212707\n",
      "0.46730175381091477\n",
      "0.4670167134933977\n",
      "0.4668872147663972\n",
      "0.46677713156005063\n",
      "0.46669994116814917\n",
      "0.46660373410575595\n",
      "0.4664891687203057\n",
      "0.4664017767169907\n",
      "0.4662130658566933\n",
      "0.46609634567753333\n",
      "0.46602926806010575\n",
      "0.4659888039963616\n",
      "0.4659420972489048\n",
      "0.4659221668568744\n",
      "0.46583861908036284\n",
      "0.46581751890993617\n",
      "0.4657974719678514\n",
      "0.4657823749559922\n",
      "0.4657507578261374\n",
      "0.4657357042522572\n",
      "0.46571463769956417\n",
      "0.4656764233451526\n",
      "0.46560412422279046\n",
      "0.46554174850576413\n",
      "0.46550333701139773\n",
      "0.46547057142228937\n",
      "0.46544006949518135\n",
      "0.4653912816052745\n",
      "0.4653607122399369\n",
      "0.4653310714999556\n",
      "0.4653073059619856\n",
      "0.4652530695564511\n",
      "0.4652375023418139\n",
      "0.46521217136018117\n",
      "0.4651871709235029\n",
      "0.46515915593158214\n",
      "0.46513124277418555\n",
      "0.465116501878853\n"
     ]
    }
   ],
   "source": [
    "objectiveHistory = summary.objectiveHistory\n",
    "print(\"objectiveHistory:\")\n",
    "for objective in objectiveHistory:\n",
    "    print(objective)"
   ]
  },
  {
   "cell_type": "code",
   "execution_count": 104,
   "id": "64565a95",
   "metadata": {},
   "outputs": [],
   "source": [
    "#maxIter=10, regParam=0.3, elasticNetParam=0.8, family='multinomial'"
   ]
  },
  {
   "cell_type": "code",
   "execution_count": 105,
   "id": "1ef0bd8d",
   "metadata": {},
   "outputs": [
    {
     "name": "stdout",
     "output_type": "stream",
     "text": [
      "False positive rate by label:\n",
      "label 0: 0.09906873614190688\n",
      "label 1: 0.11739284868576841\n",
      "label 2: 0.11812218788962975\n"
     ]
    }
   ],
   "source": [
    "# for multiclass, we can inspect metrics on a per-label basis\n",
    "print(\"False positive rate by label:\")\n",
    "for i, rate in enumerate(summary.falsePositiveRateByLabel):\n",
    "    print(\"label %d: %s\" % (i, rate))"
   ]
  },
  {
   "cell_type": "code",
   "execution_count": 106,
   "id": "e6943afc",
   "metadata": {},
   "outputs": [
    {
     "name": "stdout",
     "output_type": "stream",
     "text": [
      "True positive rate by label:\n",
      "label 0: 0.9207114361702128\n",
      "label 1: 0.603273577552611\n",
      "label 2: 0.6337448559670782\n"
     ]
    }
   ],
   "source": [
    "print(\"True positive rate by label:\")\n",
    "for i, rate in enumerate(summary.truePositiveRateByLabel):\n",
    "    print(\"label %d: %s\" % (i, rate))"
   ]
  },
  {
   "cell_type": "markdown",
   "id": "458771d9",
   "metadata": {},
   "source": [
    "True positive rate for medium_load and maximum_load is very poor. We will have to fine tune this later on.. For now, lets continue evaluating this current model with raw data."
   ]
  },
  {
   "cell_type": "code",
   "execution_count": 107,
   "id": "e9f58cb6",
   "metadata": {},
   "outputs": [
    {
     "name": "stdout",
     "output_type": "stream",
     "text": [
      "Precision by label:\n",
      "label 0: 0.9084050840508405\n",
      "label 1: 0.6611993849308048\n",
      "label 2: 0.5856626735120746\n"
     ]
    }
   ],
   "source": [
    "print(\"Precision by label:\")\n",
    "for i, prec in enumerate(summary.precisionByLabel):\n",
    "    print(\"label %d: %s\" % (i, prec))"
   ]
  },
  {
   "cell_type": "code",
   "execution_count": 108,
   "id": "efce9c09",
   "metadata": {},
   "outputs": [
    {
     "name": "stdout",
     "output_type": "stream",
     "text": [
      "F-measure by label:\n",
      "label 0: 0.9145168613530358\n",
      "label 1: 0.6309096837300293\n",
      "label 2: 0.6087558059096748\n"
     ]
    }
   ],
   "source": [
    "print(\"F-measure by label:\")\n",
    "for i, f in enumerate(summary.fMeasureByLabel()):\n",
    "    print(\"label %d: %s\" % (i, f))"
   ]
  },
  {
   "cell_type": "code",
   "execution_count": 109,
   "id": "cf76e5ff",
   "metadata": {},
   "outputs": [
    {
     "name": "stdout",
     "output_type": "stream",
     "text": [
      "Accuracy: 0.7735015231475523\n",
      "FPR: 0.10808529586485727\n",
      "TPR: 0.7735015231475522\n",
      "F-measure: 0.772699434232157\n",
      "Precision: 0.7730658007851507\n",
      "Recall: 0.7735015231475522\n"
     ]
    }
   ],
   "source": [
    "accuracy = summary.accuracy\n",
    "falsePositiveRate = summary.weightedFalsePositiveRate\n",
    "truePositiveRate = summary.weightedTruePositiveRate\n",
    "fMeasure = summary.weightedFMeasure()\n",
    "precision = summary.weightedPrecision\n",
    "recall = summary.weightedRecall\n",
    "print(\"Accuracy: %s\\nFPR: %s\\nTPR: %s\\nF-measure: %s\\nPrecision: %s\\nRecall: %s\"\n",
    "      % (accuracy, falsePositiveRate, truePositiveRate, fMeasure, precision, recall))"
   ]
  },
  {
   "cell_type": "markdown",
   "id": "3b349dd1",
   "metadata": {},
   "source": [
    "### Plotting confusion matrix "
   ]
  },
  {
   "cell_type": "code",
   "execution_count": 110,
   "id": "b929f019",
   "metadata": {},
   "outputs": [
    {
     "data": {
      "text/plain": [
       "array([[5542,  328,  162],\n",
       "       [ 333, 1991,  957],\n",
       "       [ 230,  681, 1501]], dtype=int64)"
      ]
     },
     "execution_count": 110,
     "metadata": {},
     "output_type": "execute_result"
    }
   ],
   "source": [
    "from sklearn.metrics import confusion_matrix\n",
    "y_true = predictions.select(\"label\")\n",
    "y_true = y_true.toPandas()\n",
    "\n",
    "y_pred = predictions.select(\"prediction\")\n",
    "y_pred = y_pred.toPandas()\n",
    "\n",
    "cnf_matrix = confusion_matrix(y_true, y_pred)\n",
    "cnf_matrix"
   ]
  },
  {
   "cell_type": "code",
   "execution_count": 111,
   "id": "ebeb8bdd",
   "metadata": {},
   "outputs": [],
   "source": [
    "import matplotlib.pyplot as plt\n",
    "import numpy as np\n",
    "import itertools\n",
    "\n",
    "def plot_confusion_matrix(cm, classes,\n",
    "                          normalize=False,\n",
    "                          title='Confusion matrix',\n",
    "                          cmap=plt.cm.Blues):\n",
    "\n",
    "    print('Confusion matrix')\n",
    "\n",
    "    print(cm)\n",
    "\n",
    "    plt.imshow(cm, interpolation='nearest', cmap=cmap)\n",
    "    plt.title(title)\n",
    "    plt.colorbar()\n",
    "    tick_marks = np.arange(len(classes))\n",
    "    plt.xticks(tick_marks, classes, rotation=45)\n",
    "    plt.yticks(tick_marks, classes)\n",
    "\n",
    "    fmt = 'd'\n",
    "    thresh = cm.max() / 2.\n",
    "    for i, j in itertools.product(range(cm.shape[0]), range(cm.shape[1])):\n",
    "        plt.text(j, i, format(cm[i, j], fmt),\n",
    "                 horizontalalignment=\"center\",\n",
    "                 color=\"white\" if cm[i, j] > thresh else \"black\")\n",
    "\n",
    "    plt.tight_layout()\n",
    "    plt.ylabel('True label')\n",
    "    plt.xlabel('Predicted label')"
   ]
  },
  {
   "cell_type": "code",
   "execution_count": 112,
   "id": "b667da0c",
   "metadata": {},
   "outputs": [
    {
     "name": "stdout",
     "output_type": "stream",
     "text": [
      "Confusion matrix\n",
      "[[5542  328  162]\n",
      " [ 333 1991  957]\n",
      " [ 230  681 1501]]\n"
     ]
    },
    {
     "name": "stderr",
     "output_type": "stream",
     "text": [
      "C:\\Users\\XenaI\\AppData\\Local\\Temp\\ipykernel_5332\\1408026480.py:16: MatplotlibDeprecationWarning: Auto-removal of grids by pcolor() and pcolormesh() is deprecated since 3.5 and will be removed two minor releases later; please call grid(False) first.\n",
      "  plt.colorbar()\n"
     ]
    },
    {
     "data": {
      "image/png": "[encoded data removed]",
      "text/plain": [
       "<Figure size 720x720 with 2 Axes>"
      ]
     },
     "metadata": {},
     "output_type": "display_data"
    }
   ],
   "source": [
    "plt.figure()\n",
    "plot_confusion_matrix(cnf_matrix, classes=[\"light_load\",\"medium_load\",\"maximum_load\"],\n",
    "                      title='Confusion matrix')\n",
    "plt.show()"
   ]
  },
  {
   "cell_type": "markdown",
   "id": "aae677c3",
   "metadata": {},
   "source": [
    "Overall accuracy is alright, could be improved. Lets fine tune it, although we have to beware of overfitting the train set."
   ]
  },
  {
   "cell_type": "code",
   "execution_count": 113,
   "id": "a654ed25",
   "metadata": {},
   "outputs": [],
   "source": [
    "# Create a MulticlassClassificationEvaluator\n",
    "evaluator = evals.MulticlassClassificationEvaluator(metricName=\"f1\")"
   ]
  },
  {
   "cell_type": "code",
   "execution_count": 114,
   "id": "0963807b",
   "metadata": {},
   "outputs": [],
   "source": [
    "# make grid of values to search over to look for optimal hyperparameters"
   ]
  },
  {
   "cell_type": "code",
   "execution_count": 115,
   "id": "61afe8bd",
   "metadata": {},
   "outputs": [],
   "source": [
    "# Create the parameter grid\n",
    "grid = tune.ParamGridBuilder()\n",
    "\n",
    "# Add the hyperparameter\n",
    "grid = grid.addGrid(lr.regParam, np.arange(0, .8, .01))\n",
    "grid = grid.addGrid(lr.elasticNetParam, [0, 1])\n",
    "\n",
    "# Build the grid\n",
    "grid = grid.build()"
   ]
  },
  {
   "cell_type": "code",
   "execution_count": 116,
   "id": "d81cc4b3",
   "metadata": {},
   "outputs": [],
   "source": [
    "#instantiate cross validator and pass in grid\n",
    "cv = tune.CrossValidator(estimator=lr, estimatorParamMaps=grid, evaluator=evaluator)"
   ]
  },
  {
   "cell_type": "code",
   "execution_count": 117,
   "id": "fe3184cb",
   "metadata": {},
   "outputs": [
    {
     "name": "stdout",
     "output_type": "stream",
     "text": [
      "CrossValidatorModel_c8ebb7049254\n"
     ]
    }
   ],
   "source": [
    "best_lr = cv.fit(train)\n",
    "\n",
    "# Print best_lr\n",
    "print(best_lr)"
   ]
  },
  {
   "cell_type": "code",
   "execution_count": 118,
   "id": "530c9b33",
   "metadata": {},
   "outputs": [
    {
     "name": "stdout",
     "output_type": "stream",
     "text": [
      "+------+----------+----------+----+----------+----------+-----+-------+---------+------------+------------+--------------------+-----+--------------------+--------------------+----------+\n",
      "| Usage|Lagging_rp|Leading_rp| CO2|Lagging_pf|Leading_pf|  NSM|   week|      day|    loadtype|month_string|            features|label|       rawPrediction|         probability|prediction|\n",
      "+------+----------+----------+----+----------+----------+-----+-------+---------+------------+------------+--------------------+-----+--------------------+--------------------+----------+\n",
      "|111.89|     43.13|       0.0|0.05|     93.31|     100.0|54900|Weekday|   Monday| Medium_Load|     January|(25,[0,1,3,4,5,6,...|  1.0|[-2.2685056877884...|[0.01636253742143...|       2.0|\n",
      "|  8.53|       0.0|     26.46| 0.0|     100.0|     30.68|45000|Weekday|Wednesday| Medium_Load|     January|(25,[0,2,4,5,6,7,...|  1.0|[0.35880504809131...|[0.31424173410166...|       1.0|\n",
      "| 84.82|     31.25|      3.02|0.04|     93.83|     99.94|47700|Weekday|Wednesday| Medium_Load|     January|(25,[0,1,2,3,4,5,...|  1.0|[-1.6462353072139...|[0.04059791472855...|       1.0|\n",
      "|  4.79|      5.58|       0.0| 0.0|     65.14|     100.0|81000|Weekday| Thursday|Maximum_Load|     January|(25,[0,1,4,5,6,7,...|  2.0|[0.90863780398927...|[0.62458912768652...|       0.0|\n",
      "|105.84|     59.98|       0.0|0.05|      87.0|     100.0|42300|Weekday|   Friday|Maximum_Load|     January|(25,[0,1,3,4,5,6,...|  2.0|[-0.8447306945450...|[0.11444066158507...|       2.0|\n",
      "+------+----------+----------+----+----------+----------+-----+-------+---------+------------+------------+--------------------+-----+--------------------+--------------------+----------+\n",
      "only showing top 5 rows\n",
      "\n"
     ]
    }
   ],
   "source": [
    "test_results = best_lr.transform(test)\n",
    "test_results.show(5)"
   ]
  },
  {
   "cell_type": "code",
   "execution_count": 119,
   "id": "998bc4e9",
   "metadata": {},
   "outputs": [],
   "source": [
    "best_model = best_lr.bestModel"
   ]
  },
  {
   "cell_type": "code",
   "execution_count": 121,
   "id": "e883898d",
   "metadata": {},
   "outputs": [],
   "source": [
    "best_reg_param = best_model._java_obj.getRegParam()\n",
    "best_elasticnet_param = best_model._java_obj.getElasticNetParam()"
   ]
  },
  {
   "cell_type": "code",
   "execution_count": 122,
   "id": "c1c969e5",
   "metadata": {},
   "outputs": [
    {
     "name": "stdout",
     "output_type": "stream",
     "text": [
      "Best regParam: 0.01\n",
      "Best elasticNetParam: 0.0\n"
     ]
    }
   ],
   "source": [
    "print(\"Best regParam:\", best_reg_param)\n",
    "print(\"Best elasticNetParam:\", best_elasticnet_param)"
   ]
  },
  {
   "cell_type": "code",
   "execution_count": 123,
   "id": "3fb1a775",
   "metadata": {},
   "outputs": [
    {
     "name": "stdout",
     "output_type": "stream",
     "text": [
      "0.7721554941937427\n"
     ]
    }
   ],
   "source": [
    "# Evaluate the predictions\n",
    "print(evaluator.evaluate(test_results))"
   ]
  },
  {
   "cell_type": "code",
   "execution_count": 124,
   "id": "92b9f0f5",
   "metadata": {},
   "outputs": [],
   "source": [
    "#method for visualising roc curve\n",
    "from pyspark.mllib.evaluation import BinaryClassificationMetrics\n",
    "\n",
    "class CurveMetrics(BinaryClassificationMetrics):\n",
    "    def __init__(self, *args):\n",
    "        super(CurveMetrics, self).__init__(*args)\n",
    "\n",
    "    def _to_list(self, rdd):\n",
    "        points = []\n",
    "        # Note this collect could be inefficient for large datasets \n",
    "        # considering there may be one probability per datapoint (at most)\n",
    "        # The Scala version takes a numBins parameter, \n",
    "        # but it doesn't seem possible to pass this from Python to Java\n",
    "        for row in rdd.collect():\n",
    "            # Results are returned as type scala.Tuple2, \n",
    "            # which doesn't appear to have a py4j mapping\n",
    "            points += [(float(row._1()), float(row._2()))]\n",
    "        return points\n",
    "\n",
    "    def get_curve(self, method):\n",
    "        rdd = getattr(self._java_model, method)().toJavaRDD()\n",
    "        return self._to_list(rdd)"
   ]
  },
  {
   "cell_type": "code",
   "execution_count": 125,
   "id": "03ccb264",
   "metadata": {},
   "outputs": [],
   "source": [
    "# Returns as a list (false positive rate, true positive rate)\n",
    "preds = test_results.select('label','probability').rdd.map(lambda row: (float(row['probability'][1]), float(row['label'])))\n",
    "points = CurveMetrics(preds).get_curve('roc')"
   ]
  },
  {
   "cell_type": "code",
   "execution_count": 126,
   "id": "e758b4e9",
   "metadata": {},
   "outputs": [
    {
     "data": {
      "text/plain": [
       "[<matplotlib.lines.Line2D at 0x1c8826bf5b0>]"
      ]
     },
     "execution_count": 126,
     "metadata": {},
     "output_type": "execute_result"
    },
    {
     "data": {
      "image/png": "[encoded data removed]",
      "text/plain": [
       "<Figure size 720x720 with 1 Axes>"
      ]
     },
     "metadata": {},
     "output_type": "display_data"
    }
   ],
   "source": [
    "plt.figure()\n",
    "x_val = [x[0] for x in points]\n",
    "y_val = [x[1] for x in points]\n",
    "plt.title('ROC')\n",
    "plt.xlabel('False Positive Rate')\n",
    "plt.ylabel('True Positive Rate')\n",
    "plt.plot(x_val, y_val)"
   ]
  },
  {
   "cell_type": "code",
   "execution_count": 127,
   "id": "1cbe3041",
   "metadata": {},
   "outputs": [
    {
     "data": {
      "text/plain": [
       "[(0.9335702528283331, 0.0019321974354470403),\n",
       " (0.9286455317192643, 0.0038643948708940805),\n",
       " (0.9208736607644976, 0.005796592306341121),\n",
       " (0.9172349268226607, 0.007728789741788161),\n",
       " (0.9138460791496373, 0.009660987177235202),\n",
       " (0.9124004899394498, 0.010714913051115405),\n",
       " (0.9078746520095962, 0.012647110486562444),\n",
       " (0.9045164400996172, 0.014579307922009486),\n",
       " (0.9012632831677164, 0.016511505357456525),\n",
       " (0.8968161926443343, 0.018443702792903565),\n",
       " (0.894680802105564, 0.020375900228350605),\n",
       " (0.893811053857562, 0.02090286316529071),\n",
       " (0.8919713208751399, 0.02283506060073775),\n",
       " (0.8904820907998567, 0.024767258036184788),\n",
       " (0.8884623017915542, 0.026699455471631828),\n",
       " (0.884913981679812, 0.028631652907078867),\n",
       " (0.8826696009333942, 0.03056385034252591),\n",
       " (0.8819556188739434, 0.03126646759177938),\n",
       " (0.8800714520085161, 0.03319866502722642),\n",
       " (0.8770308082248484, 0.03513086246267346),\n",
       " (0.875442013121391, 0.0370630598981205),\n",
       " (0.8712556957778714, 0.03899525733356754),\n",
       " (0.869007183853256, 0.04075180045670121),\n",
       " (0.8671970108069953, 0.04127876339364132),\n",
       " (0.8638147160904509, 0.04321096082908835),\n",
       " (0.8591915879332429, 0.04496750395222203),\n",
       " (0.8546637479923415, 0.046899701387669065),\n",
       " (0.8525768752232222, 0.04883189882311611),\n",
       " (0.8465186795537131, 0.05058844194624978),\n",
       " (0.8448973952222845, 0.05129105919550325),\n",
       " (0.8417823367610914, 0.05322325663095029),\n",
       " (0.8368078189285905, 0.054979799754083965),\n",
       " (0.8302458347081935, 0.056736342877217634),\n",
       " (0.822362758051319, 0.05849288600035131),\n",
       " (0.8172097629436315, 0.060425083435798346),\n",
       " (0.817010326110697, 0.06060073774811171),\n",
       " (0.8109428326626301, 0.06253293518355876),\n",
       " (0.806512111112468, 0.06428947830669243),\n",
       " (0.8010891920028174, 0.06622167574213947),\n",
       " (0.7950144203150425, 0.0681538731775865),\n",
       " (0.7917102763446227, 0.06973476198840682),\n",
       " (0.7911035855865898, 0.07026172492534692),\n",
       " (0.787843992330351, 0.07201826804848059),\n",
       " (0.7821923257275286, 0.07342350254698753),\n",
       " (0.7800775269342446, 0.07500439135780783),\n",
       " (0.7767125257314287, 0.07693658879325488),\n",
       " (0.7725653772128526, 0.07869313191638855),\n",
       " (0.7723152410809685, 0.07922009485332865),\n",
       " (0.7688703600971634, 0.08080098366414895),\n",
       " (0.7659995203359838, 0.082733181099596),\n",
       " (0.7631562364330172, 0.08466537853504304),\n",
       " (0.7600048883201039, 0.08624626734586334),\n",
       " (0.7580384601705396, 0.08800281046899701),\n",
       " (0.7567522262463167, 0.08835411909362374),\n",
       " (0.7529515015158991, 0.08958369927981732),\n",
       " (0.7504663326338713, 0.09098893377832426),\n",
       " (0.7478210781521836, 0.09256982258914456),\n",
       " (0.7451341981628956, 0.0945020200245916),\n",
       " (0.7427760426219695, 0.09608290883541191),\n",
       " (0.7424365056227047, 0.09660987177235202),\n",
       " (0.7405728731957865, 0.09836641489548568),\n",
       " (0.7389725884660114, 0.09994730370630599),\n",
       " (0.7368965320398336, 0.10152819251712629),\n",
       " (0.7346682151300129, 0.10346038995257334),\n",
       " (0.7319106830344498, 0.10539258738802038),\n",
       " (0.731611994220195, 0.10627085894958721),\n",
       " (0.7300173609553202, 0.10820305638503425),\n",
       " (0.7270176327661413, 0.10978394519585456),\n",
       " (0.7253226069853435, 0.11154048831898823),\n",
       " (0.7236448730137215, 0.1132970314421219),\n",
       " (0.7215696527651972, 0.11522922887756895),\n",
       " (0.7211955041866754, 0.11540488318988232),\n",
       " (0.7193790018793819, 0.11733708062532935),\n",
       " (0.718435700061056, 0.11891796943614966),\n",
       " (0.7164226331095517, 0.12067451255928333),\n",
       " (0.7140584809874434, 0.12225540137010364),\n",
       " (0.7126504697655687, 0.12401194449323731),\n",
       " (0.7114353612000377, 0.12489021605480415),\n",
       " (0.7102758247198689, 0.12664675917793783),\n",
       " (0.708556157961604, 0.1284033023010715),\n",
       " (0.7057291665140719, 0.13033549973651853),\n",
       " (0.7038711586860769, 0.1320920428596522),\n",
       " (0.7019652503543474, 0.13384858598278587),\n",
       " (0.7007151562529381, 0.13437554891972597),\n",
       " (0.6986580249518454, 0.136307746355173),\n",
       " (0.6966231472325782, 0.13806428947830668),\n",
       " (0.6949837128332594, 0.13999648691375374),\n",
       " (0.6937817353631608, 0.14192868434920078),\n",
       " (0.6921957456814272, 0.14368522747233445),\n",
       " (0.6919247605223934, 0.14403653609696118),\n",
       " (0.6901502954467416, 0.14596873353240822),\n",
       " (0.6880419258437267, 0.14790093096785525),\n",
       " (0.6847698471813674, 0.14965747409098892),\n",
       " (0.6833659145068086, 0.151589671526436),\n",
       " (0.6818834056562326, 0.15352186896188302),\n",
       " (0.6809737943752147, 0.15387317758650976),\n",
       " (0.6782835435981679, 0.1552784120850167),\n",
       " (0.6762138696083136, 0.15703495520815036),\n",
       " (0.6742493792900052, 0.15879149833128403),\n",
       " (0.6722284680594132, 0.16072369576673107),\n",
       " (0.6706726871853224, 0.16230458457755137),\n",
       " (0.6703515209851446, 0.1626558932021781),\n",
       " (0.6688230099347635, 0.16458809063762517),\n",
       " (0.6666404944668416, 0.1665202880730722),\n",
       " (0.6652023573242666, 0.16845248550851924),\n",
       " (0.6626430644652692, 0.1702090286316529),\n",
       " (0.6610182500758519, 0.17214122606709995),\n",
       " (0.6604428724330086, 0.1728438433163534),\n",
       " (0.6580166397763603, 0.17460038643948708),\n",
       " (0.6564529241860735, 0.17635692956262075),\n",
       " (0.6550483777718643, 0.17828912699806782),\n",
       " (0.6538342953948901, 0.18022132443351485),\n",
       " (0.651438890421525, 0.18180221324433515),\n",
       " (0.6508528943279588, 0.1821535218689619),\n",
       " (0.6490002488695334, 0.1837344106797822),\n",
       " (0.6469258166512596, 0.18549095380291586),\n",
       " (0.6454954495121922, 0.18724749692604953),\n",
       " (0.6438952847899452, 0.1890040400491832),\n",
       " (0.6428054041572645, 0.19023362023537677),\n",
       " (0.641929736296379, 0.191287546109257),\n",
       " (0.6396389938514971, 0.1928684349200773),\n",
       " (0.638672115531607, 0.19480063235552433),\n",
       " (0.6375848537719985, 0.19673282979097137),\n",
       " (0.6358186921203675, 0.19831371860179167),\n",
       " (0.634291168078405, 0.19989460741261197),\n",
       " (0.6339746984668494, 0.2002459160372387),\n",
       " (0.6323897303638508, 0.20217811347268574),\n",
       " (0.6316129837271561, 0.2039346565958194),\n",
       " (0.6289832488245439, 0.205164236782013),\n",
       " (0.6272818156938418, 0.20709643421746005),\n",
       " (0.6258067237795577, 0.20902863165290708),\n",
       " (0.625428539346614, 0.20955559458984718),\n",
       " (0.6240809773261854, 0.21113648340066749),\n",
       " (0.6231761081868439, 0.2127173722114878),\n",
       " (0.6221720675023559, 0.21464956964693482),\n",
       " (0.6197708799687544, 0.21623045845775513),\n",
       " (0.6188825607227222, 0.21798700158088882),\n",
       " (0.6181848419957415, 0.21833831020551556),\n",
       " (0.6165521528776263, 0.2202705076409626),\n",
       " (0.6139696645218918, 0.22220270507640963),\n",
       " (0.6121408388159837, 0.2239592481995433),\n",
       " (0.610508825167211, 0.22589144563499033),\n",
       " (0.6090844694598717, 0.22782364307043737),\n",
       " (0.6087026028209245, 0.2281749516950641),\n",
       " (0.6075441664832375, 0.2297558405058844),\n",
       " (0.6059995948830079, 0.23168803794133147),\n",
       " (0.6052964052462994, 0.2336202353767785),\n",
       " (0.6039665898999854, 0.23537677849991218),\n",
       " (0.6029083475908806, 0.2367820129984191),\n",
       " (0.6023740202724948, 0.23713332162304585),\n",
       " (0.6011128517781266, 0.23871421043386615),\n",
       " (0.5995300472208076, 0.24064640786931318),\n",
       " (0.5982932588059418, 0.24240295099244685),\n",
       " (0.5971501597687277, 0.24398383980326718),\n",
       " (0.596132783288826, 0.24556472861408749),\n",
       " (0.5956949353003143, 0.24609169155102759),\n",
       " (0.5941900217214386, 0.2476725803618479),\n",
       " (0.5927147608994269, 0.24907781486035482),\n",
       " (0.5916627878504377, 0.2510100122958019),\n",
       " (0.5908846105628454, 0.25276655541893556),\n",
       " (0.5899032563618191, 0.2545230985420692),\n",
       " (0.5893556481328521, 0.2550500614790093),\n",
       " (0.5883180971373954, 0.25698225891445636),\n",
       " (0.587513678528289, 0.2583874934129633),\n",
       " (0.5864781872915036, 0.25979272791147023),\n",
       " (0.5845695028477188, 0.2615492710346039),\n",
       " (0.583021759484183, 0.26348146847005094),\n",
       " (0.5824625110557021, 0.2638327770946777),\n",
       " (0.5812297781054065, 0.2648867029685579),\n",
       " (0.5803001405633428, 0.2662919374670648),\n",
       " (0.5787734080304333, 0.2680484805901985),\n",
       " (0.5775780087293998, 0.2696293694010188),\n",
       " (0.5765791207285221, 0.2715615668364658),\n",
       " (0.5759693475159163, 0.2720885297734059),\n",
       " (0.5746151089456518, 0.27402072720885295),\n",
       " (0.573413031958064, 0.2759529246443),\n",
       " (0.5721693525562116, 0.2771825048304936),\n",
       " (0.571493785264177, 0.27911470226594065),\n",
       " (0.5702200910914323, 0.2810468997013877),\n",
       " (0.569016223155012, 0.28227647988758126),\n",
       " (0.5674365610013663, 0.2836817143860882),\n",
       " (0.5663973911125831, 0.2852626031969085),\n",
       " (0.5643028606565292, 0.28649218338310206),\n",
       " (0.5631485282436574, 0.2884243808185491),\n",
       " (0.5621201128482124, 0.29035657825399613),\n",
       " (0.5619280949081806, 0.29088354119093623),\n",
       " (0.5609524694191964, 0.29246443000175654),\n",
       " (0.5600490059280641, 0.29404531881257684),\n",
       " (0.5584392595525678, 0.29562620762339714),\n",
       " (0.5570875517544026, 0.29720709643421744),\n",
       " (0.5559467476304711, 0.2986123309327244),\n",
       " (0.5553358961197404, 0.2991392938696645),\n",
       " (0.5546487770850363, 0.3007201826804848),\n",
       " (0.5541114500121636, 0.30247672580361845),\n",
       " (0.5531164334580378, 0.3040576146144388),\n",
       " (0.5517573920422897, 0.3052871948006324),\n",
       " (0.5507643111050622, 0.30704373792376605),\n",
       " (0.5500977828477008, 0.3072193922360794),\n",
       " (0.5491654439587147, 0.3088002810468997),\n",
       " (0.5484956615504646, 0.31073247848234675),\n",
       " (0.5478233189129049, 0.3124890216054804),\n",
       " (0.5471287477986628, 0.3142455647286141),\n",
       " (0.5464108810491548, 0.3161777621640611),\n",
       " (0.5457263064511031, 0.3167047251010012),\n",
       " (0.54452293305428, 0.3184612682241349),\n",
       " (0.543698089972955, 0.32039346565958193),\n",
       " (0.543190046359373, 0.32232566309502897),\n",
       " (0.5422217763267869, 0.32390655190584927),\n",
       " (0.5415059345113746, 0.32566309502898294),\n",
       " (0.5413485760790104, 0.3260144036536097),\n",
       " (0.5406883108809585, 0.32759529246443),\n",
       " (0.5394452237084932, 0.3293518355875637),\n",
       " (0.5381807948656196, 0.33110837871069737),\n",
       " (0.537162776859532, 0.33286492183383104),\n",
       " (0.5363013711732608, 0.33444581064465134),\n",
       " (0.5361907584948786, 0.3347971192692781),\n",
       " (0.5348587289521896, 0.33655366239241175),\n",
       " (0.533902999633904, 0.33813455120323205),\n",
       " (0.5327856121475097, 0.3398910943263657),\n",
       " (0.5316833042352738, 0.3416476374494994),\n",
       " (0.530520949661114, 0.3430528719480063),\n",
       " (0.53026330342846, 0.3437554891972598),\n",
       " (0.5296771245157984, 0.34551203232039346),\n",
       " (0.5285757635347391, 0.3469172668189004),\n",
       " (0.5276485866679403, 0.3484981556297207),\n",
       " (0.5274013423176521, 0.35025469875285437),\n",
       " (0.5261732010010038, 0.35201124187598803),\n",
       " (0.5260275146799606, 0.3521868961883014),\n",
       " (0.5253139343549644, 0.35394343931143507),\n",
       " (0.5248981302562438, 0.3556999824345688),\n",
       " (0.5240252000031533, 0.356753908308449),\n",
       " (0.5235538085709948, 0.3583347971192693),\n",
       " (0.5227920495779753, 0.36026699455471634),\n",
       " (0.5225076088043776, 0.3609696118039698),\n",
       " (0.5214644607241439, 0.3625505006147901),\n",
       " (0.5201631039669321, 0.3637800808009837),\n",
       " (0.5193260726387581, 0.3657122782364307),\n",
       " (0.517763128847955, 0.36764447567187775),\n",
       " (0.5172345846830724, 0.3694010187950114),\n",
       " (0.5170472739906966, 0.3699279817319515),\n",
       " (0.516181457175385, 0.37133321623045845),\n",
       " (0.5155134821909712, 0.37291410504127875),\n",
       " (0.5147317236789634, 0.3748463024767258),\n",
       " (0.5139286975544521, 0.3767784999121728),\n",
       " (0.5131161432733407, 0.37818373441067976),\n",
       " (0.5130243671166911, 0.37818373441067976),\n",
       " (0.5124554910421838, 0.37994027753381343),\n",
       " (0.511806212233562, 0.3818724749692605),\n",
       " (0.5112582306376489, 0.38327770946776746),\n",
       " (0.5106427548321765, 0.38485859827858776),\n",
       " (0.5099389280052314, 0.38661514140172143),\n",
       " (0.5097644770344428, 0.3873177586509749),\n",
       " (0.5088567472928884, 0.38907430177410857),\n",
       " (0.5082402803281784, 0.39083084489724224),\n",
       " (0.5071988203879527, 0.39276304233268927),\n",
       " (0.5063114670643223, 0.3941682768311962),\n",
       " (0.5055997364572913, 0.3953978570173898),\n",
       " (0.5054300992947678, 0.39610047426664324),\n",
       " (0.5046378099279919, 0.39768136307746355),\n",
       " (0.5040298005253037, 0.3996135605129106),\n",
       " (0.5036017152894842, 0.40084314069910415),\n",
       " (0.5023723372933895, 0.40242402950992445),\n",
       " (0.5006712442704029, 0.40400491832074475),\n",
       " (0.5003890460620088, 0.4048831898823116),\n",
       " (0.4995061601871451, 0.4064640786931319),\n",
       " (0.4984677985380217, 0.40804496750395225),\n",
       " (0.49793048715463695, 0.4098015106270859),\n",
       " (0.4973890575015224, 0.41173370806253295),\n",
       " (0.49683917038088826, 0.41366590549798),\n",
       " (0.4964611867937398, 0.4141928684349201),\n",
       " (0.49577834015916655, 0.41612506587036713),\n",
       " (0.4953296251472118, 0.4178816089935008),\n",
       " (0.49445843937133566, 0.41981380642894783),\n",
       " (0.49382362956103476, 0.4215703495520815),\n",
       " (0.4929139453695757, 0.42350254698752854),\n",
       " (0.4926722570329651, 0.42402950992446864),\n",
       " (0.49195709971912793, 0.4257860530476023),\n",
       " (0.4911958083541457, 0.427542596170736),\n",
       " (0.49005204854404005, 0.42929913929386965),\n",
       " (0.489025691923041, 0.4310556824170033),\n",
       " (0.4885976022992531, 0.43298787985245035),\n",
       " (0.4884734136514073, 0.4331635341647637),\n",
       " (0.487587357576051, 0.4345687686632707),\n",
       " (0.4866594622319784, 0.436149657474091),\n",
       " (0.4857724460020982, 0.43808185490953805),\n",
       " (0.4845641606334468, 0.43966274372035835),\n",
       " (0.4837922340326859, 0.44124363253117865),\n",
       " (0.4836457954032534, 0.44229755840505885),\n",
       " (0.48285879254700365, 0.4442297558405059),\n",
       " (0.48183846548222153, 0.4458106446513262),\n",
       " (0.48112651309943183, 0.44756718777445986),\n",
       " (0.4803982171720927, 0.44932373089759353),\n",
       " (0.4798023001149727, 0.4510802740207272),\n",
       " (0.47957114029991654, 0.45143158264535393),\n",
       " (0.4785710425343837, 0.45283681714386087),\n",
       " (0.47751908043394264, 0.45459336026699454),\n",
       " (0.47696855759244766, 0.4559985947655015),\n",
       " (0.47566971115736423, 0.45775513788863514),\n",
       " (0.4746915990647667, 0.4595116810117688),\n",
       " (0.4746815672468783, 0.4595116810117688),\n",
       " (0.474204046184036, 0.4614438784472159),\n",
       " (0.47344899019087394, 0.46284911294572284),\n",
       " (0.47253502431523786, 0.4647813103811699),\n",
       " (0.47196280824764714, 0.4663621991919902),\n",
       " (0.4711550200889118, 0.4677674336904971),\n",
       " (0.47069110466020897, 0.4688213595643773),\n",
       " (0.4700997084481433, 0.47022659406288425),\n",
       " (0.4693218929450954, 0.4721587914983313),\n",
       " (0.46827063166846455, 0.47391533462146496),\n",
       " (0.4675269155936166, 0.4753205691199719),\n",
       " (0.466943802310803, 0.4767258036184788),\n",
       " (0.4667555429075678, 0.47707711224310556),\n",
       " (0.4661896965538102, 0.4784823467416125),\n",
       " (0.46532221291058684, 0.48023888986474617),\n",
       " (0.4644807236870384, 0.4821710873001932),\n",
       " (0.46363742688288634, 0.48410328473564024),\n",
       " (0.4629810983804561, 0.48568417354646054),\n",
       " (0.4625480231928242, 0.48621113648340064),\n",
       " (0.461664530006675, 0.48796767960653437),\n",
       " (0.4609910683657538, 0.48919725979272793),\n",
       " (0.4603179232375347, 0.4909538029158616),\n",
       " (0.45951875164296574, 0.4927103460389953),\n",
       " (0.4588916963567186, 0.49393992622518884),\n",
       " (0.45820210227770514, 0.49446688916212894),\n",
       " (0.457439563606899, 0.49604777797294924),\n",
       " (0.45639773804071554, 0.4979799754083963),\n",
       " (0.4556583123834783, 0.4993852099069032),\n",
       " (0.45482345831424154, 0.5013174073423503),\n",
       " (0.4539493397936803, 0.5032496047777973),\n",
       " (0.4537283969937948, 0.5041278763393642),\n",
       " (0.45292419361196273, 0.5057087651501845),\n",
       " (0.4519446883930443, 0.5072896539610048),\n",
       " (0.45076372306528717, 0.5086948884595117),\n",
       " (0.45016616745999416, 0.5099244686457053),\n",
       " (0.44927009886622177, 0.5113297031442122),\n",
       " (0.4490511803004352, 0.5118566660811523),\n",
       " (0.44843158860664734, 0.513613209204286),\n",
       " (0.4478814514626463, 0.5153697523274197),\n",
       " (0.44698546377394577, 0.5167749868259266),\n",
       " (0.44642883092456936, 0.5181802213244335),\n",
       " (0.4455556480979591, 0.5197611101352538),\n",
       " (0.4455242894791501, 0.5199367644475672),\n",
       " (0.44489938431183484, 0.5218689618830142),\n",
       " (0.44408039581868936, 0.5234498506938345),\n",
       " (0.44365358257347925, 0.5253820481292816),\n",
       " (0.44316244618469275, 0.5271385912524152),\n",
       " (0.442388104790127, 0.5290707886878623),\n",
       " (0.44229995588149124, 0.5297734059371157),\n",
       " (0.44123802523120587, 0.5311786404356227),\n",
       " (0.4407513074340702, 0.5331108378710697),\n",
       " (0.44025702521947946, 0.53469172668189),\n",
       " (0.43951109116324777, 0.5364482698050237),\n",
       " (0.4386405712904161, 0.5382048129281574),\n",
       " (0.43833780834461655, 0.5392587388020376),\n",
       " (0.43749392815031674, 0.5411909362374846),\n",
       " (0.436165867195956, 0.5429474793606183),\n",
       " (0.4355520597246857, 0.5447040224837519),\n",
       " (0.4341646133598075, 0.5462849112945722),\n",
       " (0.4335424873793072, 0.5478658001053925),\n",
       " (0.4334598856169962, 0.548568417354646),\n",
       " (0.4325218596751802, 0.5503249604777797),\n",
       " (0.43172917778290903, 0.5522571579132267),\n",
       " (0.43101695653089606, 0.5538380467240471),\n",
       " (0.43042382283149266, 0.5557702441594942),\n",
       " (0.4295381262223417, 0.5571754786580011),\n",
       " (0.42905956658188865, 0.5580537502195679),\n",
       " (0.4281813942725503, 0.5596346390303882),\n",
       " (0.4273497408571071, 0.5613911821535219),\n",
       " (0.4263334589282751, 0.5633233795889689),\n",
       " (0.4254511819059832, 0.565255577024416),\n",
       " (0.4248341847898987, 0.567187774459863),\n",
       " (0.4244609677802016, 0.5677147373968031),\n",
       " (0.4234193445941254, 0.5694712805199368),\n",
       " (0.4227267513447607, 0.5714034779553838),\n",
       " (0.4221098615369506, 0.5731600210785175),\n",
       " (0.42154869784263543, 0.5749165642016512),\n",
       " (0.42097379521359973, 0.5768487616370982),\n",
       " (0.4207754857318199, 0.5770244159494116),\n",
       " (0.4202759707974608, 0.5789566133848586),\n",
       " (0.419578645472128, 0.5803618478833655),\n",
       " (0.4187455183232598, 0.5822940453188126),\n",
       " (0.41835839541012226, 0.5838749341296329),\n",
       " (0.4178077351471873, 0.5858071315650799),\n",
       " (0.4172983394370427, 0.58633409450202),\n",
       " (0.4163114597508222, 0.588266291937467),\n",
       " (0.41560867905052834, 0.589671526435974),\n",
       " (0.41451987826021397, 0.5914280695591076),\n",
       " (0.41414900034072266, 0.593008958369928),\n",
       " (0.41348459752578576, 0.5947655014930616),\n",
       " (0.4133883371338981, 0.594941155805375),\n",
       " (0.4124405254401014, 0.5965220446161953),\n",
       " (0.4118674015695177, 0.598278587739329),\n",
       " (0.4113571277203103, 0.5996838222378359),\n",
       " (0.4109812294097093, 0.6016160196732829),\n",
       " (0.4101868002094402, 0.6030212541717899),\n",
       " (0.4093892694595926, 0.6037238714210433),\n",
       " (0.4089668527829248, 0.6054804145441771),\n",
       " (0.4080286447767402, 0.6070613033549974),\n",
       " (0.40724106911542524, 0.6086421921658177),\n",
       " (0.4069053315391766, 0.6103987352889514),\n",
       " (0.40612756596703536, 0.6123309327243984),\n",
       " (0.4059171681593727, 0.6130335499736519),\n",
       " (0.4053887462240969, 0.6149657474090989),\n",
       " (0.4046286612905643, 0.6167222905322326),\n",
       " (0.4040407556185629, 0.6179518707184262),\n",
       " (0.4036900438088143, 0.6195327595292465),\n",
       " (0.4029052910452612, 0.6212893026523801),\n",
       " (0.40268676145142357, 0.6216406112770069),\n",
       " (0.40190721808328467, 0.6230458457755138),\n",
       " (0.401453333993021, 0.6244510802740207),\n",
       " (0.400396344700144, 0.626031969084841),\n",
       " (0.3997657694621345, 0.6276128578956613),\n",
       " (0.3989702982326723, 0.629369401018795),\n",
       " (0.3989191633808396, 0.6297207096434217),\n",
       " (0.39845635220493086, 0.6314772527665554),\n",
       " (0.3975542399759939, 0.6325311786404356),\n",
       " (0.3971293295219081, 0.6339364131389426),\n",
       " (0.39625564237260574, 0.6355173019497629),\n",
       " (0.39553368699873837, 0.6367468821359564),\n",
       " (0.39508713125307865, 0.6372738450728965),\n",
       " (0.3941850755237468, 0.6390303881960302),\n",
       " (0.393406067653429, 0.6407869313191639),\n",
       " (0.3926386313132677, 0.6425434744422975),\n",
       " (0.39186648003638, 0.6441243632531178),\n",
       " (0.39131229232507675, 0.6460565606885649),\n",
       " (0.3909868664708272, 0.6469348322501317),\n",
       " (0.39027979201458135, 0.6483400667486386),\n",
       " (0.38969812281553895, 0.649920955559459),\n",
       " (0.38900217512876084, 0.6516774986825926),\n",
       " (0.3882612135997919, 0.6530827331810996),\n",
       " (0.3873575673515557, 0.6546636219919199),\n",
       " (0.3872270297142561, 0.6553662392411733),\n",
       " (0.3866834930040562, 0.6572984366766204),\n",
       " (0.3861481801690849, 0.6588793254874408),\n",
       " (0.38500717772486487, 0.6604602142982611),\n",
       " (0.3840394366175786, 0.661865448796768),\n",
       " (0.38344741755919276, 0.6632706832952749),\n",
       " (0.3831689776724465, 0.6641489548568418),\n",
       " (0.3823933373847592, 0.6657298436676621),\n",
       " (0.38126059370700693, 0.6673107324784824),\n",
       " (0.38053752901549315, 0.6692429299139294),\n",
       " (0.37996790585809936, 0.6706481644124364),\n",
       " (0.37945050084607024, 0.6725803618478834),\n",
       " (0.3791041504483697, 0.6729316704725101),\n",
       " (0.3782595751304717, 0.6743369049710171),\n",
       " (0.3773804403564913, 0.6760934480941507),\n",
       " (0.3763744320013397, 0.6780256455295978),\n",
       " (0.3755359493208253, 0.6797821886527314),\n",
       " (0.37485997666543164, 0.6815387317758651),\n",
       " (0.3748177368140839, 0.6817143860881785),\n",
       " (0.37418230798789326, 0.6832952748989988),\n",
       " (0.3735928947915501, 0.6847005093975057),\n",
       " (0.37291524205234866, 0.686281398208326),\n",
       " (0.37243976189595523, 0.6880379413314597),\n",
       " (0.3717135487880846, 0.6897944844545933),\n",
       " (0.37148828178259047, 0.6901457930792201),\n",
       " (0.37117013863468656, 0.6917266818900404),\n",
       " (0.3701235012773198, 0.6933075707008607),\n",
       " (0.36923831987900596, 0.694888459511681),\n",
       " (0.36854681952865204, 0.6966450026348147),\n",
       " (0.3677049407835314, 0.6980502371333216),\n",
       " (0.36763179686986347, 0.698225891445635),\n",
       " (0.3669244471694347, 0.700158088881082),\n",
       " (0.3658197412787203, 0.7015633233795889),\n",
       " (0.3645984157012662, 0.7031442121904092),\n",
       " (0.3636328809542559, 0.7049007553135429),\n",
       " (0.3629607698151298, 0.7066572984366766),\n",
       " (0.3627666220544863, 0.7070086070613033),\n",
       " (0.3612116967380919, 0.708765150184437),\n",
       " (0.3605671941497, 0.7103460389952573),\n",
       " (0.359850707473668, 0.7121025821183911),\n",
       " (0.35831419173819684, 0.7131565079922713),\n",
       " (0.3574331374407315, 0.7150887054277183),\n",
       " (0.35740806590725116, 0.7152643597400317),\n",
       " (0.3569204937843673, 0.7166695942385386),\n",
       " (0.3563410352753637, 0.7184261373616723),\n",
       " (0.35564053930250655, 0.7200070261724926),\n",
       " (0.35492085012703056, 0.7217635692956262),\n",
       " (0.3544254099438916, 0.7233444581064465),\n",
       " (0.35375185821975347, 0.7247496926049535),\n",
       " (0.35287978395669406, 0.725979272791147),\n",
       " (0.35236284915516397, 0.7275601616019673),\n",
       " (0.35163234289453127, 0.7289653961004743),\n",
       " (0.35125813693775804, 0.7305462849112946),\n",
       " (0.3506503173758505, 0.7321271737221149),\n",
       " (0.3505567804373362, 0.7324784823467416),\n",
       " (0.34959646767227043, 0.7340593711575619),\n",
       " (0.34914525534627405, 0.7354646056560689),\n",
       " (0.3481347435169298, 0.7370454944668892),\n",
       " (0.34698802944502793, 0.7389776919023362),\n",
       " (0.3465182863400347, 0.7405585807131565),\n",
       " (0.34648594559593143, 0.7409098893377832),\n",
       " (0.34539530138776653, 0.7423151238362902),\n",
       " (0.3444406261718393, 0.7438960126471105),\n",
       " (0.343959161519456, 0.7453012471456174),\n",
       " (0.34302722945806813, 0.7470577902687511),\n",
       " (0.34221279004481703, 0.7488143333918847),\n",
       " (0.34190521638518473, 0.7496926049534516),\n",
       " (0.34127281795082515, 0.7512734937642719),\n",
       " (0.34048721245139085, 0.7523274196381521),\n",
       " (0.33970039056147505, 0.7540839627612858),\n",
       " (0.33866600021737386, 0.7558405058844194),\n",
       " (0.33764016015107146, 0.7574213946952397),\n",
       " (0.3374099927968861, 0.7581240119444932),\n",
       " (0.3363759400898449, 0.7597049007553135),\n",
       " (0.3357274310524092, 0.7609344809415071),\n",
       " (0.33491223280730376, 0.7625153697523274),\n",
       " (0.33413965772209697, 0.7640962585631478),\n",
       " (0.3335086273178918, 0.7655014930616547),\n",
       " (0.3334385402077918, 0.7662041103109082),\n",
       " (0.3328473845575935, 0.7677849991217285),\n",
       " (0.33157330110582356, 0.7693658879325488),\n",
       " (0.3308343471882338, 0.7709467767433691),\n",
       " (0.3298646746167387, 0.772352011241876),\n",
       " (0.32889926049053253, 0.773757245740383),\n",
       " (0.32861980120250045, 0.7741085543650097),\n",
       " (0.32806667744829554, 0.77568944317583),\n",
       " (0.32759247252777696, 0.777621640611277),\n",
       " (0.3269760661494447, 0.7793781837344107),\n",
       " (0.3262200011810095, 0.7806077639206043),\n",
       " (0.3255740948625275, 0.7821886527314246),\n",
       " (0.32526612535866245, 0.7827156156683647),\n",
       " (0.3242032699615743, 0.784296504479185),\n",
       " (0.3230774743233747, 0.7858773932900053),\n",
       " (0.32220247176411, 0.7869313191638855),\n",
       " (0.3212220662675588, 0.7885122079747058),\n",
       " (0.3205929600231001, 0.7899174424732127),\n",
       " (0.3205273298947384, 0.7902687510978395),\n",
       " (0.319860305784634, 0.7922009485332865),\n",
       " (0.3191308462882148, 0.7939574916564202),\n",
       " (0.3181353746202633, 0.7950114175303004),\n",
       " (0.31739900662163345, 0.7965923063411207),\n",
       " (0.31655335584815525, 0.7978218865273142),\n",
       " (0.3159877854881615, 0.7987001580888811),\n",
       " (0.3151950654428315, 0.8002810468997014),\n",
       " (0.3145033825862191, 0.8013349727735816),\n",
       " (0.313644102050159, 0.8027402072720885),\n",
       " (0.31322318561833323, 0.8044967503952222),\n",
       " (0.31206556702363875, 0.8059019848937291),\n",
       " (0.3118828635342876, 0.8067802564552959),\n",
       " (0.3105610900223653, 0.8080098366414895),\n",
       " (0.3093714230587362, 0.8097663797646232),\n",
       " (0.3085546097197895, 0.8111716142631301),\n",
       " (0.3078007237775822, 0.8124011944493237),\n",
       " (0.30693750305569134, 0.8143333918847707),\n",
       " (0.30681835492508114, 0.8148603548217108),\n",
       " (0.3062912511321582, 0.8162655893202179),\n",
       " (0.30547680675610656, 0.8181977867556649),\n",
       " (0.30495060722609757, 0.8197786755664852),\n",
       " (0.30425072502232536, 0.8211839100649921),\n",
       " (0.30378314968795056, 0.8229404531881258),\n",
       " (0.30352562877529754, 0.8232917618127525),\n",
       " (0.3025987640936607, 0.8250483049358862),\n",
       " (0.30109484113013374, 0.8264535394343931),\n",
       " (0.30035168846541127, 0.8276831196205867),\n",
       " (0.299702428942137, 0.8289126998067803),\n",
       " (0.29841149900724173, 0.830669242929914),\n",
       " (0.29803759724632295, 0.8310205515545407),\n",
       " (0.2969064283498438, 0.832601440365361),\n",
       " (0.296121179847574, 0.8338310205515546),\n",
       " (0.2950717046541744, 0.8352362550500615),\n",
       " (0.2945381248326153, 0.8368171438608818),\n",
       " (0.29356611038047814, 0.8387493412963288),\n",
       " (0.29250375397572226, 0.8394519585455823),\n",
       " (0.2912956639632473, 0.8410328473564026),\n",
       " (0.290439726919814, 0.8426137361672229),\n",
       " (0.2895844057439905, 0.8441946249780432),\n",
       " (0.28807661267724627, 0.8457755137888635),\n",
       " (0.28729208587839766, 0.8473564025996838),\n",
       " (0.28658822668945133, 0.8482346741612506),\n",
       " (0.2861246606247152, 0.8499912172843843),\n",
       " (0.28531237333212706, 0.851747760407518),\n",
       " (0.28439507302583844, 0.8535043035306517),\n",
       " (0.2828947598666377, 0.855085192341472),\n",
       " (0.2819494447912623, 0.8557878095907254),\n",
       " (0.28048911380303676, 0.8568417354646056),\n",
       " (0.2797067469564445, 0.8580713156507992),\n",
       " (0.2786557503033542, 0.8593008958369928),\n",
       " (0.277415553684359, 0.8607061303354997),\n",
       " (0.2761391438125581, 0.8614087475847532),\n",
       " (0.27551483042754743, 0.8624626734586334),\n",
       " (0.2753364874615599, 0.8628139820832601),\n",
       " (0.27450733845953845, 0.8640435622694537),\n",
       " (0.2739924294197716, 0.8654487967679606),\n",
       " (0.27301327134328024, 0.8668540312664675),\n",
       " (0.2720413464034265, 0.8679079571403477),\n",
       " (0.27153613152441475, 0.8693131916388548),\n",
       " (0.2713271801407332, 0.8693131916388548),\n",
       " (0.27043271898385124, 0.8707184261373617),\n",
       " (0.26983102830758937, 0.872299314948182),\n",
       " (0.26823570491447485, 0.873704549446689),\n",
       " (0.26676735426306364, 0.8754610925698226),\n",
       " (0.2654968449161492, 0.8772176356929563),\n",
       " (0.26539048672855736, 0.8773932900052697),\n",
       " (0.2645137871923467, 0.8784472158791499),\n",
       " (0.26329505967031747, 0.8793254874407167),\n",
       " (0.2623732440250142, 0.880906376251537),\n",
       " (0.2615490695807771, 0.8823116107500439),\n",
       " (0.2606849884675351, 0.8838924995608642),\n",
       " (0.2602782837455875, 0.884243808185491),\n",
       " (0.2591568048508293, 0.8852977340593712),\n",
       " (0.2579091990464138, 0.8870542771825048),\n",
       " (0.2570962879198718, 0.8889864746179519),\n",
       " (0.25522847487594696, 0.8898647461795187),\n",
       " (0.25423058219073225, 0.8909186720533989),\n",
       " (0.25386042876132453, 0.8912699806780257),\n",
       " (0.2527162017637496, 0.8932021781134727),\n",
       " (0.25161137474441364, 0.894783066924293),\n",
       " (0.2494969200311244, 0.8961883014227999),\n",
       " (0.2482121643275418, 0.8975935359213069),\n",
       " (0.24690751674266356, 0.8995257333567539),\n",
       " (0.24642868598796006, 0.900052696293694),\n",
       " (0.24452665959316933, 0.9012822764798876),\n",
       " (0.24237550605450744, 0.9025118566660811),\n",
       " (0.24137358764309685, 0.9037414368522747),\n",
       " (0.24073806630003902, 0.905322325663095),\n",
       " (0.2393440475309305, 0.9067275601616019),\n",
       " (0.2391818331754655, 0.9070788687862287),\n",
       " (0.23827396958876373, 0.9081327946601089),\n",
       " (0.2375469372216131, 0.9095380291586158),\n",
       " (0.23677513872120012, 0.9107676093448094),\n",
       " (0.23600489689085155, 0.9121728438433163),\n",
       " (0.23458469907092308, 0.9130511154048832),\n",
       " (0.23458351322298734, 0.9132267697171965),\n",
       " (0.23369421750847916, 0.9146320042157035),\n",
       " (0.23298721796494895, 0.9162128930265238),\n",
       " (0.23166734921520865, 0.9174424732127173),\n",
       " (0.23012325750148085, 0.9190233620235376),\n",
       " (0.22882010309552067, 0.9200772878974178),\n",
       " (0.2285775634333523, 0.9204285965220446),\n",
       " (0.22749929921463405, 0.9218338310205516),\n",
       " (0.22613297618431474, 0.9228877568944318),\n",
       " (0.22531815769180016, 0.9242929913929387),\n",
       " (0.2241782121236294, 0.9260495345160724),\n",
       " (0.2234778786936236, 0.9276304233268927),\n",
       " (0.2232245581804381, 0.9279817319515195),\n",
       " (0.22252153578764916, 0.9288600035130863),\n",
       " (0.221705278316016, 0.9299139293869665),\n",
       " (0.22064130697223527, 0.9314948181977868),\n",
       " (0.21792541925764278, 0.9329000526962937),\n",
       " (0.21701452782415362, 0.9343052871948007),\n",
       " (0.21666393732550343, 0.9348322501317408),\n",
       " (0.2146310323401593, 0.935886176005621),\n",
       " (0.21368107372364664, 0.9371157561918145),\n",
       " (0.21263908240021348, 0.9379940277533814),\n",
       " (0.21024851407600414, 0.939750570876515),\n",
       " (0.20894385005391847, 0.9413314596873353),\n",
       " (0.20849056253690582, 0.9420340769365888),\n",
       " (0.2072590272586473, 0.9432636571227824),\n",
       " (0.20564383400418215, 0.9444932373089759),\n",
       " (0.20453586142568736, 0.9458984718074829),\n",
       " (0.2038665821271705, 0.9469523976813631),\n",
       " (0.20285193973086196, 0.9480063235552433),\n",
       " (0.20233064224881261, 0.94835763217987),\n",
       " (0.1998142914890847, 0.949762866678377),\n",
       " (0.19799348888215304, 0.9509924468645705),\n",
       " (0.19683188266706506, 0.951695064113824),\n",
       " (0.19558150401194563, 0.9523976813630775),\n",
       " (0.19318036880658504, 0.9532759529246443),\n",
       " (0.1926112619892175, 0.9538029158615844),\n",
       " (0.1912838616075172, 0.955032496047778),\n",
       " (0.1905628973028597, 0.9555594589847181),\n",
       " (0.1888221668366436, 0.9560864219216582),\n",
       " (0.18733330148562619, 0.956964693483225),\n",
       " (0.1868257680713441, 0.9576673107324785),\n",
       " (0.1849842300244268, 0.9585455822940453),\n",
       " (0.183195431419819, 0.9594238538556121),\n",
       " (0.18109500611494322, 0.9604777797294923),\n",
       " (0.1789227597750963, 0.9613560512910592),\n",
       " (0.17723255938851934, 0.9618830142279993),\n",
       " (0.1750727267602131, 0.9629369401018795),\n",
       " (0.1739267760629891, 0.9634639030388196),\n",
       " (0.17313822688792746, 0.9643421746003864),\n",
       " (0.17130638408768845, 0.96557175478658),\n",
       " (0.16957706911722525, 0.9666256806604602),\n",
       " (0.16859785032392502, 0.9671526435974003),\n",
       " (0.16725205021597578, 0.9678552608466537),\n",
       " (0.1670442407758375, 0.9680309151589671),\n",
       " (0.1655274146191721, 0.9692604953451607),\n",
       " (0.16393683945264473, 0.9701387669067275),\n",
       " (0.16249083632643352, 0.9710170384682943),\n",
       " (0.16107965933037688, 0.9717196557175478),\n",
       " (0.15949599797230976, 0.9731248902160547),\n",
       " (0.15944508268368604, 0.9731248902160547),\n",
       " (0.15832438773898677, 0.9734761988406815),\n",
       " (0.1563328393833454, 0.9741788160899351),\n",
       " (0.1548332879308079, 0.9750570876515019),\n",
       " (0.15358555372813673, 0.9757597049007554),\n",
       " (0.1518948626486635, 0.9764623221500088),\n",
       " (0.14997344492379447, 0.9771649393992623),\n",
       " (0.14887525315481095, 0.9771649393992623),\n",
       " (0.14612149007376976, 0.9780432109608291),\n",
       " (0.14416843399090049, 0.9783945195854559),\n",
       " (0.14234828729213195, 0.978921482522396),\n",
       " (0.14059539834486287, 0.9792727911470227),\n",
       " (0.1385300644161305, 0.9796240997716494),\n",
       " (0.13730824382985857, 0.9805023713332163),\n",
       " (0.13574011505394357, 0.9810293342701564),\n",
       " (0.13356366079808601, 0.9815562972070965),\n",
       " (0.13233313202031624, 0.9826102230809767),\n",
       " (0.1309735608506225, 0.9833128403302301),\n",
       " (0.13012391469257922, 0.9834884946425435),\n",
       " (0.1285366300714284, 0.9840154575794836),\n",
       " (0.12698277057997254, 0.9845424205164237),\n",
       " (0.1257729776942441, 0.9845424205164237),\n",
       " (0.1230562692565548, 0.9852450377656772),\n",
       " (0.12138780999367794, 0.9855963463903039),\n",
       " (0.12105238143972041, 0.9855963463903039),\n",
       " (0.11890172197217026, 0.9859476550149306),\n",
       " (0.11758378939898875, 0.986123309327244),\n",
       " (0.11632377640433711, 0.9868259265764975),\n",
       " (0.11493478329118358, 0.9870015808888108),\n",
       " (0.11250887057936161, 0.9873528895134376),\n",
       " (0.11197941239093098, 0.987528543825751),\n",
       " (0.11021767223460667, 0.9878798524503777),\n",
       " (0.10883852985306171, 0.9882311610750044),\n",
       " (0.10670497345461126, 0.9882311610750044),\n",
       " (0.10453956658172034, 0.9889337783242579),\n",
       " (0.10313605838917624, 0.9892850869488846),\n",
       " (0.10177927833548364, 0.989460741261198),\n",
       " (0.09988034920394405, 0.989460741261198),\n",
       " (0.0986381560933236, 0.9899877041981381),\n",
       " (0.09701441794226147, 0.9901633585104515),\n",
       " (0.09584933466917364, 0.9903390128227648),\n",
       " (0.09329253011035711, 0.9905146671350782),\n",
       " (0.09306184374030813, 0.9905146671350782),\n",
       " (0.0920798869283714, 0.9908659757597049),\n",
       " (0.09081738825059822, 0.9910416300720183),\n",
       " (0.08870774773663809, 0.991392938696645),\n",
       " (0.0879466603459658, 0.9917442473212718),\n",
       " (0.08679807182213421, 0.9920955559458985),\n",
       " (0.08610651319746176, 0.9922712102582119),\n",
       " (0.08459291296843531, 0.9926225188828386),\n",
       " (0.08330310938126621, 0.9929738275074653),\n",
       " (0.08218534234935757, 0.9931494818197787),\n",
       " (0.08105269136093265, 0.9931494818197787),\n",
       " (0.0797641225822969, 0.9933251361320921),\n",
       " (0.07899180070948145, 0.9933251361320921),\n",
       " (0.0780810364925081, 0.9936764447567188),\n",
       " (0.07695189859215965, 0.9942034076936589),\n",
       " (0.07575477692078925, 0.9942034076936589),\n",
       " (0.07458930421008628, 0.994730370630599),\n",
       " (0.07305238985019152, 0.994730370630599),\n",
       " (0.07269735388640129, 0.994730370630599),\n",
       " (0.0717467588513543, 0.994730370630599),\n",
       " (0.07090701512050117, 0.994730370630599),\n",
       " (0.0698953904647615, 0.9950816792552257),\n",
       " (0.06840129891437234, 0.9956086421921658),\n",
       " (0.06755439580095925, 0.9959599508167926),\n",
       " (0.06717236689337973, 0.9959599508167926),\n",
       " (0.06645013974925702, 0.9959599508167926),\n",
       " (0.06540915447748642, 0.9961356051291059),\n",
       " (0.06442795432111456, 0.9964869137537327),\n",
       " (0.06251311765800278, 0.9964869137537327),\n",
       " (0.061719345077069644, 0.9964869137537327),\n",
       " (0.06133857902116728, 0.9964869137537327),\n",
       " (0.06062598661827297, 0.9964869137537327),\n",
       " (0.059384070751149085, 0.9964869137537327),\n",
       " (0.05826965172714849, 0.996662568066046),\n",
       " (0.05714980908756654, 0.9970138766906728),\n",
       " (0.05623716783432678, 0.9973651853152995),\n",
       " (0.05613056223415518, 0.9973651853152995),\n",
       " (0.05505970506554926, 0.9975408396276129),\n",
       " (0.05448612414600704, 0.9977164939399262),\n",
       " (0.05324439600328861, 0.9977164939399262),\n",
       " (0.05201862520944796, 0.9977164939399262),\n",
       " (0.051285224095813424, 0.9977164939399262),\n",
       " (0.050887869920981384, 0.998067802564553),\n",
       " (0.049691729113695036, 0.9982434568768663),\n",
       " (0.048888908082020295, 0.9982434568768663),\n",
       " (0.04825751778620421, 0.9984191111891797),\n",
       " (0.04749598862791514, 0.9984191111891797),\n",
       " (0.04686790777372799, 0.9987704198138064),\n",
       " (0.04648256489990918, 0.9987704198138064),\n",
       " (0.04561208870290249, 0.9989460741261198),\n",
       " (0.0451765117174983, 0.9989460741261198),\n",
       " (0.044691056936388425, 0.9989460741261198),\n",
       " (0.04411271354167519, 0.9991217284384332),\n",
       " (0.04315102561822216, 0.9991217284384332),\n",
       " (0.04311055965317951, 0.9991217284384332),\n",
       " (0.04249213326868815, 0.9991217284384332),\n",
       " (0.04182049760877608, 0.9992973827507465),\n",
       " (0.041409495767682464, 0.9992973827507465),\n",
       " (0.04095143914100499, 0.9992973827507465),\n",
       " (0.040611793517499696, 0.9994730370630599),\n",
       " (0.04042531488623884, 0.9994730370630599),\n",
       " (0.03992159585073195, 0.9994730370630599),\n",
       " (0.03954148229043018, 0.9994730370630599),\n",
       " (0.03912026938244075, 0.9994730370630599),\n",
       " (0.038711039535845426, 0.9994730370630599),\n",
       " (0.03825770992928905, 0.9994730370630599),\n",
       " (0.03793668094720583, 0.9994730370630599),\n",
       " (0.037436090664758795, 0.9994730370630599),\n",
       " (0.0370429483185715, 0.9994730370630599),\n",
       " (0.036480299123332914, 0.9994730370630599),\n",
       " (0.03568327741342543, 0.9996486913753733),\n",
       " (0.0352907241947724, 0.9996486913753733),\n",
       " (0.03507085984481866, 0.9996486913753733),\n",
       " (0.03481346349697703, 0.9996486913753733),\n",
       " (0.03377082072428294, 0.9996486913753733),\n",
       " (0.03328304875772993, 0.9998243456876866),\n",
       " (0.03293655951006897, 0.9998243456876866),\n",
       " (0.03252366406177266, 0.9998243456876866),\n",
       " (0.03238212798146208, 0.9998243456876866),\n",
       " (0.031605832559868804, 0.9998243456876866),\n",
       " (0.03128767740116335, 0.9998243456876866),\n",
       " (0.03084030155870053, 0.9998243456876866),\n",
       " (0.030566055294874772, 0.9998243456876866),\n",
       " (0.03007371077665902, 0.9998243456876866),\n",
       " (0.02983024876682337, 0.9998243456876866),\n",
       " (0.029178674315145977, 0.9998243456876866),\n",
       " (0.028773869371167986, 1.0),\n",
       " (0.028170448360429683, 1.0),\n",
       " (0.027724199903601386, 1.0),\n",
       " (0.02706246123666558, 1.0),\n",
       " (0.026996796569331686, 1.0),\n",
       " (0.026702538732547722, 1.0),\n",
       " (0.026381847186423682, 1.0),\n",
       " (0.025924290657801576, 1.0),\n",
       " (0.0254923530587886, 1.0),\n",
       " (0.024856181662963182, 1.0),\n",
       " (0.024816436494579777, 1.0),\n",
       " (0.024510319666937428, 1.0),\n",
       " (0.02414320477806123, 1.0),\n",
       " (0.023865410412632154, 1.0),\n",
       " (0.023437987330250928, 1.0),\n",
       " (0.023005446239725634, 1.0),\n",
       " (0.022926285327306888, 1.0),\n",
       " (0.022684280358396446, 1.0),\n",
       " (0.022252317183464834, 1.0),\n",
       " (0.021941279340780346, 1.0),\n",
       " (0.021634620794604008, 1.0),\n",
       " (0.021167610731861713, 1.0),\n",
       " (0.021131758136165316, 1.0),\n",
       " (0.020861263687272893, 1.0),\n",
       " (0.020558451066082832, 1.0),\n",
       " (0.020180451404382203, 1.0),\n",
       " (0.019996797272779712, 1.0),\n",
       " (0.0196232657462515, 1.0),\n",
       " (0.019548517532167346, 1.0),\n",
       " (0.019180262271072543, 1.0),\n",
       " (0.01871203786796576, 1.0),\n",
       " (0.018541064394185566, 1.0),\n",
       " (0.01820944241101304, 1.0),\n",
       " (0.018051957906942206, 1.0),\n",
       " (0.0180249113371641, 1.0),\n",
       " (0.017878743068987596, 1.0),\n",
       " (0.01758005084091722, 1.0),\n",
       " (0.017219687037120717, 1.0),\n",
       " (0.017067093937037644, 1.0),\n",
       " (0.016783910114714872, 1.0),\n",
       " (0.01671729737586886, 1.0),\n",
       " (0.016477482203819133, 1.0),\n",
       " (0.016221630811897387, 1.0),\n",
       " (0.016037525046621957, 1.0),\n",
       " (0.015899618890474986, 1.0),\n",
       " (0.015720787462028898, 1.0),\n",
       " (0.01570056113635622, 1.0),\n",
       " (0.015502998728162028, 1.0),\n",
       " (0.015239121364693953, 1.0),\n",
       " (0.015108274536177926, 1.0),\n",
       " (0.014906402360314635, 1.0),\n",
       " (0.014824775806240862, 1.0),\n",
       " (0.01478339216486716, 1.0),\n",
       " (0.014642370543045838, 1.0),\n",
       " (0.014441360252196118, 1.0),\n",
       " (0.01430776082049798, 1.0),\n",
       " (0.014193372937324042, 1.0),\n",
       " (0.014080294858519535, 1.0),\n",
       " (0.014061005272275736, 1.0),\n",
       " (0.013943296033959012, 1.0),\n",
       " (0.013847965244843392, 1.0),\n",
       " (0.01374868466010386, 1.0),\n",
       " (0.013655255064563384, 1.0),\n",
       " (0.013481774327418018, 1.0),\n",
       " (0.013422473628635218, 1.0),\n",
       " (0.013316103748163161, 1.0),\n",
       " (0.013172847963830366, 1.0),\n",
       " (0.013050762614791055, 1.0),\n",
       " (0.012969465647548679, 1.0),\n",
       " (0.012870792893934663, 1.0),\n",
       " (0.012811732497787807, 1.0),\n",
       " (0.012733614644341714, 1.0),\n",
       " (0.012649185418509, 1.0),\n",
       " (0.012543158213125872, 1.0),\n",
       " (0.012465789697409987, 1.0),\n",
       " (0.012334182749922366, 1.0),\n",
       " (0.01229808301882856, 1.0),\n",
       " (0.012229030382042807, 1.0),\n",
       " (0.012163195451305184, 1.0),\n",
       " (0.012075324111318592, 1.0),\n",
       " (0.011959631717397924, 1.0),\n",
       " (0.011852626347455911, 1.0),\n",
       " (0.011787529368555821, 1.0),\n",
       " (0.011684063277654217, 1.0),\n",
       " (0.011609766133661999, 1.0),\n",
       " (0.011533919348636594, 1.0),\n",
       " (0.011451826686069522, 1.0),\n",
       " (0.01132408576835042, 1.0),\n",
       " (0.011255087330404973, 1.0),\n",
       " (0.011108482413511393, 1.0),\n",
       " (0.011013373156824815, 1.0),\n",
       " (0.010928822087831871, 1.0),\n",
       " (0.010847300969784332, 1.0),\n",
       " (0.010716266519707664, 1.0),\n",
       " (0.010709365098071402, 1.0),\n",
       " (0.010584664164875999, 1.0),\n",
       " (0.010513803486941297, 1.0),\n",
       " (0.010401459091641823, 1.0),\n",
       " (0.01025994790441591, 1.0),\n",
       " (0.010136417361398515, 1.0),\n",
       " (0.01008653947741804, 1.0),\n",
       " (0.009986082765735912, 1.0),\n",
       " (0.00993625915826936, 1.0),\n",
       " (0.009873328981511926, 1.0),\n",
       " (0.009759086248524736, 1.0),\n",
       " (0.009715655413498059, 1.0),\n",
       " (0.00969179011355682, 1.0),\n",
       " (0.009621122097279179, 1.0),\n",
       " (0.009562786215769023, 1.0),\n",
       " (0.009447416130043495, 1.0),\n",
       " (0.00937498287068337, 1.0),\n",
       " (0.00930680935512691, 1.0),\n",
       " (0.009261283385780049, 1.0),\n",
       " (0.009142477586515261, 1.0),\n",
       " (0.009043690716309966, 1.0),\n",
       " (0.008967450888913547, 1.0),\n",
       " (0.008891396877760712, 1.0),\n",
       " (0.00883932105956791, 1.0),\n",
       " (0.008818635162212166, 1.0),\n",
       " (0.008765218628868927, 1.0),\n",
       " (0.008667992172526715, 1.0),\n",
       " (0.008641956703887581, 1.0),\n",
       " (0.008566726764194033, 1.0),\n",
       " (0.008506404929414388, 1.0),\n",
       " (0.008486052705554211, 1.0),\n",
       " (0.008422887721388493, 1.0),\n",
       " (0.008339424595791317, 1.0),\n",
       " (0.008273486973145932, 1.0),\n",
       " (0.008228196903294327, 1.0),\n",
       " (0.008178436621248193, 1.0),\n",
       " (0.00813753654759132, 1.0),\n",
       " (0.00807579056410673, 1.0),\n",
       " (0.008027337069975563, 1.0),\n",
       " (0.007987427954958283, 1.0),\n",
       " (0.007914433434427848, 1.0),\n",
       " (0.007839041426225256, 1.0),\n",
       " (0.007817161447460544, 1.0),\n",
       " (0.00778453035212664, 1.0),\n",
       " (0.007735519667505474, 1.0),\n",
       " (0.0077061439172740115, 1.0),\n",
       " (0.007661205690244749, 1.0),\n",
       " (0.007623488686208928, 1.0),\n",
       " (0.007620446532528835, 1.0),\n",
       " (0.00755588075953515, 1.0),\n",
       " (0.0075031334722129115, 1.0),\n",
       " (0.007456001173316373, 1.0),\n",
       " (0.007413769197133452, 1.0),\n",
       " (0.007365713610592894, 1.0),\n",
       " (0.007353793623385717, 1.0),\n",
       " (0.007280664556752194, 1.0),\n",
       " (0.007235537657621225, 1.0),\n",
       " (0.007163727128228999, 1.0),\n",
       " (0.007117803463429568, 1.0),\n",
       " (0.007077084095177237, 1.0),\n",
       " (0.0070675903665993215, 1.0),\n",
       " (0.007021960549508639, 1.0),\n",
       " (0.006980137451948624, 1.0),\n",
       " (0.006939976691902145, 1.0),\n",
       " (0.006895306450874139, 1.0),\n",
       " (0.00683409158411345, 1.0),\n",
       " (0.006826975283920453, 1.0),\n",
       " (0.0067611138722741175, 1.0),\n",
       " (0.00670460156780793, 1.0),\n",
       " (0.0066679479409713, 1.0),\n",
       " (0.006635654869814668, 1.0),\n",
       " (0.0066128731138875825, 1.0),\n",
       " (0.00658761987926305, 1.0),\n",
       " (0.0065391558380177, 1.0),\n",
       " (0.00650713665633399, 1.0),\n",
       " (0.006450055631872643, 1.0),\n",
       " (0.00641436747417378, 1.0),\n",
       " (0.006396665006761301, 1.0),\n",
       " (0.0063669931903781, 1.0),\n",
       " (0.0063224275262551465, 1.0),\n",
       " (0.006267897924307596, 1.0),\n",
       " (0.006212088278667555, 1.0),\n",
       " (0.006184250143643241, 1.0),\n",
       " (0.006151371593013797, 1.0),\n",
       " (0.006141754542860268, 1.0),\n",
       " (0.006100758207365192, 1.0),\n",
       " (0.006042269548038381, 1.0),\n",
       " (0.005999616335448679, 1.0),\n",
       " (0.005945486096280376, 1.0),\n",
       " (0.005917108119731676, 1.0),\n",
       " (0.00590667370092645, 1.0),\n",
       " (0.005886816236189736, 1.0),\n",
       " (0.005838762930199239, 1.0),\n",
       " (0.005805333460827343, 1.0),\n",
       " (0.005756346284012252, 1.0),\n",
       " ...]"
      ]
     },
     "execution_count": 127,
     "metadata": {},
     "output_type": "execute_result"
    }
   ],
   "source": [
    "metrics = CurveMetrics(preds)\n",
    "metrics.get_curve('fMeasureByThreshold')\n",
    "metrics.get_curve('precisionByThreshold')\n",
    "metrics.get_curve('recallByThreshold')"
   ]
  },
  {
   "cell_type": "code",
   "execution_count": 128,
   "id": "d55443d9",
   "metadata": {},
   "outputs": [
    {
     "data": {
      "text/plain": [
       "array([[5493,  362,  177],\n",
       "       [ 356, 2017,  908],\n",
       "       [ 191,  679, 1542]], dtype=int64)"
      ]
     },
     "execution_count": 128,
     "metadata": {},
     "output_type": "execute_result"
    }
   ],
   "source": [
    "y_true = test_results.select(\"label\")\n",
    "y_true = y_true.toPandas()\n",
    "\n",
    "y_pred = test_results.select(\"prediction\")\n",
    "y_pred = y_pred.toPandas()\n",
    "\n",
    "cnf_matrix = confusion_matrix(y_true, y_pred)\n",
    "cnf_matrix"
   ]
  },
  {
   "cell_type": "code",
   "execution_count": 129,
   "id": "12be80ae",
   "metadata": {},
   "outputs": [
    {
     "name": "stdout",
     "output_type": "stream",
     "text": [
      "Confusion matrix\n",
      "[[5493  362  177]\n",
      " [ 356 2017  908]\n",
      " [ 191  679 1542]]\n"
     ]
    },
    {
     "name": "stderr",
     "output_type": "stream",
     "text": [
      "C:\\Users\\XenaI\\AppData\\Local\\Temp\\ipykernel_5332\\1408026480.py:16: MatplotlibDeprecationWarning: Auto-removal of grids by pcolor() and pcolormesh() is deprecated since 3.5 and will be removed two minor releases later; please call grid(False) first.\n",
      "  plt.colorbar()\n"
     ]
    },
    {
     "data": {
      "image/png": "[encoded data removed]",
      "text/plain": [
       "<Figure size 720x720 with 2 Axes>"
      ]
     },
     "metadata": {},
     "output_type": "display_data"
    }
   ],
   "source": [
    "plt.figure()\n",
    "plot_confusion_matrix(cnf_matrix, classes=[\"light_load\",\"medium_load\",\"maximum_load\"],\n",
    "                      title='Confusion matrix')\n",
    "plt.show()"
   ]
  },
  {
   "cell_type": "markdown",
   "id": "fc958a69",
   "metadata": {},
   "source": [
    "# Cons of using PySpark MLlib vs SciKit-Learn"
   ]
  },
  {
   "cell_type": "markdown",
   "id": "c9600eef",
   "metadata": {},
   "source": [
    "1.Harder to use Spark vs SciKit-Learn\n",
    "\n",
    "2.Spark uses more memory as compared to SciKit-Learn when executing the same thing\n",
    "\n",
    "3.SciKit-Learn integrates well with Pandas and Numpy data structures but Spark uses its native dataframes or RDD to execute the computation\n",
    "\n",
    "4.SciKit-Learn has a wider range of built in algorithms compared to Spark\n"
   ]
  },
  {
   "cell_type": "markdown",
   "id": "cb29fdb1",
   "metadata": {},
   "source": [
    "# Pros of using PySpark MLlib vs SciKit-Learn"
   ]
  },
  {
   "cell_type": "markdown",
   "id": "b4fe0ee0",
   "metadata": {},
   "source": [
    "1.Spark is more powerful data processing tool compared to SciKit-Learn\n",
    "\n",
    "2.We can use more than 1 CPUs to execute the ML process\n",
    "\n",
    "3.Spark supports multiple languages(scala, java, sql, python)\n"
   ]
  }
 ],
 "metadata": {
  "kernelspec": {
   "display_name": "Python 3 (ipykernel)",
   "language": "python",
   "name": "python3"
  },
  "language_info": {
   "codemirror_mode": {
    "name": "ipython",
    "version": 3
   },
   "file_extension": ".py",
   "mimetype": "text/x-python",
   "name": "python",
   "nbconvert_exporter": "python",
   "pygments_lexer": "ipython3",
   "version": "3.9.12"
  }
 },
 "nbformat": 4,
 "nbformat_minor": 5
}
